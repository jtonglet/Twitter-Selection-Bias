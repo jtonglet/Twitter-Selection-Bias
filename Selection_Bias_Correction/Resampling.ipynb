{
  "cells": [
    {
      "cell_type": "code",
      "execution_count": null,
      "metadata": {
        "id": "XxuE6NCnFVDT"
      },
      "outputs": [],
      "source": [
        "from Resampling import Resampler\n",
        "import numpy as np\n",
        "import pandas as pd\n",
        "import matplotlib.pyplot as plt\n",
        "import seaborn as sns"
      ]
    },
    {
      "cell_type": "code",
      "execution_count": null,
      "metadata": {
        "id": "UKhWZPhz3vMc"
      },
      "outputs": [],
      "source": [
        "#Illustration of resampling with the predictions of xgboost and random forest for age and gender\n",
        "dataset_gender = pd.read_csv('output/Noisy_Classifiers/gender_predictions.csv')[['user_id','xgb']]\n",
        "dataset_age = pd.read_csv('output/Noisy_Classifiers/age_predictions.csv')[['user_id','rf']]"
      ]
    },
    {
      "cell_type": "code",
      "execution_count": null,
      "metadata": {
        "id": "72pqZQUD4Gk_"
      },
      "outputs": [],
      "source": [
        "dataset = dataset_gender.merge(dataset_age, on = 'user_id').rename(columns = {'user_id':'id',\n",
        "                                                                              'xgb':'dem_gender',\n",
        "                                                                              'rf':'dem_age'})"
      ]
    },
    {
      "cell_type": "code",
      "execution_count": null,
      "metadata": {
        "colab": {
          "base_uri": "https://localhost:8080/"
        },
        "id": "SZ62iosjJFxn",
        "outputId": "c1b2d7be-5bfa-44f6-ccf8-7a2c3ae39c09"
      },
      "outputs": [
        {
          "data": {
            "text/plain": [
              "dem_gender  dem_age\n",
              "0           0          0.019544\n",
              "            1          0.296368\n",
              "            2          0.031782\n",
              "            3          0.056977\n",
              "1           0          0.024079\n",
              "            1          0.216103\n",
              "            2          0.101069\n",
              "            3          0.254076\n",
              "dtype: float64"
            ]
          },
          "execution_count": 62,
          "metadata": {},
          "output_type": "execute_result"
        }
      ],
      "source": [
        "dataset.groupby(['dem_gender','dem_age']).size().sort_index() / dataset.shape[0]"
      ]
    },
    {
      "cell_type": "code",
      "execution_count": null,
      "metadata": {
        "id": "38dR1e1u9KA6"
      },
      "outputs": [],
      "source": [
        "dataset['dem'] = dataset.apply(lambda row : row['dem_age'] if row['dem_gender'] == 0 \n",
        "                               else row['dem_age'] + 4 ,axis = 1)"
      ]
    },
    {
      "cell_type": "markdown",
      "metadata": {},
      "source": [
        "Compute the census and twitter distributions. Female age categories come first [0..3] and are followed by the Male age categories [4..7]"
      ]
    },
    {
      "cell_type": "code",
      "execution_count": null,
      "metadata": {
        "id": "anRu5aK5JPV_"
      },
      "outputs": [],
      "source": [
        "census = np.array([0.1,0.08,0.08,0.27, 0.1,0.07,0.07,0.23])\n",
        "twitter = np.array([0.02,0.296,0.032,0.057,   #Female age categories\n",
        "              0.024,0.216,0.101,0.254])    #Male age categories                        "
      ]
    },
    {
      "cell_type": "code",
      "execution_count": null,
      "metadata": {
        "colab": {
          "base_uri": "https://localhost:8080/",
          "height": 279
        },
        "id": "xKoPuVZNhH03",
        "outputId": "5c914fd3-82dd-4684-82c1-49163be692f0"
      },
      "outputs": [
        {
          "data": {
            "image/png": "[encoded data removed]",
            "text/plain": [
              "<Figure size 432x288 with 1 Axes>"
            ]
          },
          "metadata": {
            "needs_background": "light"
          },
          "output_type": "display_data"
        }
      ],
      "source": [
        "colors = {'sample':'#1f77b4', 'census':'#ff7f0e'}         \n",
        "labels = list(colors.keys())\n",
        "handles = [plt.Rectangle((0,0),1,1, color=colors[label]) for label in labels]\n",
        "plt.legend(handles, labels)\n",
        "\n",
        "plt.bar(x= np.array([0,1,2,3,4,5,6,7])  -0.2, height = f, width = 0.4)\n",
        "plt.bar(x =  np.array([0,1,2,3,4,5,6,7]) +0.2, height = T, width = 0.4)\n",
        "plt.xticks(ticks = [0,1,2,3,4,5,6,7], labels = ['-18 F','19-29 F','30-39 F ','40+ F','-18 M','19-29 M','30-39 M ','40+ M'] )\n",
        "plt.ylabel('Percentage of total population')\n",
        "plt.xlabel('Age category');"
      ]
    },
    {
      "cell_type": "markdown",
      "metadata": {},
      "source": [
        "The hyperparameters of the resampler, N and n, are determinant in the quality of the sample obtained."
      ]
    },
    {
      "cell_type": "code",
      "execution_count": null,
      "metadata": {
        "id": "Co6PvQM3Fe7j"
      },
      "outputs": [],
      "source": [
        "resampler = Resampler(N = 20000, n = 50)\n",
        "resampler.fit(T,f)"
      ]
    },
    {
      "cell_type": "code",
      "execution_count": null,
      "metadata": {
        "colab": {
          "base_uri": "https://localhost:8080/"
        },
        "id": "fBUUqlecHT1d",
        "outputId": "38387b5e-05ae-4abc-bd2c-6d5fb92da7ef"
      },
      "outputs": [
        {
          "data": {
            "text/plain": [
              "[array([0.02 , 0.296, 0.032, 0.057, 0.024, 0.216, 0.101, 0.254]),\n",
              " array([0.02 , 0.296, 0.032, 0.057, 0.024, 0.216, 0.101, 0.254]),\n",
              " array([0.02 , 0.296, 0.032, 0.057, 0.024, 0.216, 0.101, 0.254]),\n",
              " array([0.02 , 0.296, 0.032, 0.057, 0.024, 0.216, 0.101, 0.254]),\n",
              " array([0.02 , 0.296, 0.032, 0.057, 0.024, 0.216, 0.101, 0.254]),\n",
              " array([0.02 , 0.296, 0.032, 0.057, 0.024, 0.216, 0.101, 0.254]),\n",
              " array([0.02 , 0.296, 0.032, 0.057, 0.024, 0.216, 0.101, 0.254]),\n",
              " array([0.02 , 0.296, 0.032, 0.057, 0.024, 0.216, 0.101, 0.254])]"
            ]
          },
          "execution_count": 73,
          "metadata": {},
          "output_type": "execute_result"
        }
      ],
      "source": [
        "Q = resampler.get_transition_matrix()\n",
        "Q  #Transition Matrix"
      ]
    },
    {
      "cell_type": "code",
      "execution_count": null,
      "metadata": {
        "colab": {
          "base_uri": "https://localhost:8080/"
        },
        "id": "49Hmco62G_nR",
        "outputId": "b6ec8e4c-62b4-4135-f8d5-f159261de0da"
      },
      "outputs": [
        {
          "data": {
            "text/plain": [
              "array([[1.     , 0.0016 , 0.0016 , 0.0054 , 0.002  , 0.0014 , 0.0014 ,\n",
              "        0.0046 ],\n",
              "       [0.0296 , 1.     , 0.02368, 0.07992, 0.0296 , 0.02072, 0.02072,\n",
              "        0.06808],\n",
              "       [0.0032 , 0.00256, 1.     , 0.00864, 0.0032 , 0.00224, 0.00224,\n",
              "        0.00736],\n",
              "       [0.0057 , 0.00456, 0.00456, 1.     , 0.0057 , 0.00399, 0.00399,\n",
              "        0.01311],\n",
              "       [0.0024 , 0.00192, 0.00192, 0.00648, 1.     , 0.00168, 0.00168,\n",
              "        0.00552],\n",
              "       [0.0216 , 0.01728, 0.01728, 0.05832, 0.0216 , 1.     , 0.01512,\n",
              "        0.04968],\n",
              "       [0.0101 , 0.00808, 0.00808, 0.02727, 0.0101 , 0.00707, 1.     ,\n",
              "        0.02323],\n",
              "       [0.0254 , 0.02032, 0.02032, 0.06858, 0.0254 , 0.01778, 0.01778,\n",
              "        1.     ]])"
            ]
          },
          "execution_count": 74,
          "metadata": {},
          "output_type": "execute_result"
        }
      ],
      "source": [
        "A = resampler.get_acceptance_matrix()\n",
        "A  #Acceptance Matrix"
      ]
    },
    {
      "cell_type": "markdown",
      "metadata": {},
      "source": [
        "We perform the resampling 10 times and return the average distribution of the collected sample. It should approach the census distribution."
      ]
    },
    {
      "cell_type": "code",
      "execution_count": null,
      "metadata": {
        "id": "wSnkietqHRZK"
      },
      "outputs": [],
      "source": [
        "def average_resampling(resampler, dataset, n_trials = 10):\n",
        "\n",
        "  dist = pd.Series([0,0,0,0,0,0,0,0])\n",
        "  for i in range(n_trials):\n",
        "    sample = resampler.resample(dataset)\n",
        "    dist =  dist +  sample.dem.value_counts(normalize = True).sort_index()\n",
        "\n",
        "  dist /= n_trials\n",
        "  return dist\n"
      ]
    },
    {
      "cell_type": "code",
      "execution_count": null,
      "metadata": {
        "id": "_sc0qi6RmcFn"
      },
      "outputs": [],
      "source": [
        "dist = average_resampling(resampler,dataset)"
      ]
    },
    {
      "cell_type": "markdown",
      "metadata": {},
      "source": [
        "The sample still suffers from selection bias but the situation is already improved compared to the original dataset."
      ]
    },
    {
      "cell_type": "code",
      "execution_count": null,
      "metadata": {
        "colab": {
          "base_uri": "https://localhost:8080/",
          "height": 279
        },
        "id": "xgIsd0ycgZDp",
        "outputId": "cff2c170-523e-4866-9852-73333bb490a1"
      },
      "outputs": [
        {
          "data": {
            "image/png": "[encoded data removed]",
            "text/plain": [
              "<Figure size 432x288 with 1 Axes>"
            ]
          },
          "metadata": {
            "needs_background": "light"
          },
          "output_type": "display_data"
        }
      ],
      "source": [
        "colors = {'new sample':'#1f77b4', 'census':'#ff7f0e'}         \n",
        "labels = list(colors.keys())\n",
        "handles = [plt.Rectangle((0,0),1,1, color=colors[label]) for label in labels]\n",
        "plt.legend(handles, labels)\n",
        "\n",
        "plt.bar(x= dist.index -0.2, height = dist.values, width = 0.4)\n",
        "plt.bar(x =  np.array([0,1,2,3,4,5,6,7]) +0.2, height = T, width = 0.4)\n",
        "plt.xticks(ticks = [0,1,2,3,4,5,6,7], labels = ['-18 F','19-29 F','30-39 F ','40+ F','-18 M','19-29 M','30-39 M ','40+ M'] )\n",
        "plt.ylabel('Percentage of total population')\n",
        "plt.xlabel('Age category')\n",
        "plt.plot();"
      ]
    }
  ],
  "metadata": {
    "colab": {
      "collapsed_sections": [],
      "name": "01_Resampling.ipynb",
      "provenance": []
    },
    "kernelspec": {
      "display_name": "Python 3",
      "name": "python3"
    },
    "language_info": {
      "name": "python"
    }
  },
  "nbformat": 4,
  "nbformat_minor": 0
}
