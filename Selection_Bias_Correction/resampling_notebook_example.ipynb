{
  "cells": [
    {
      "cell_type": "code",
      "execution_count": 1,
      "metadata": {
        "id": "XxuE6NCnFVDT"
      },
      "outputs": [],
      "source": [
        "#Import packages\n",
        "from resampling import Resampler\n",
        "import numpy as np\n",
        "import pandas as pd\n",
        "import matplotlib.pyplot as plt\n",
        "import seaborn as sns\n",
        "from scipy.spatial.distance import jensenshannon"
      ]
    },
    {
      "cell_type": "code",
      "execution_count": 2,
      "metadata": {
        "id": "UKhWZPhz3vMc"
      },
      "outputs": [],
      "source": [
        "dataset = pd.read_csv('output/final_predictions.csv').dropna()",
        "dataset = dataset[~dataset.location_label.isin(['Other','Brussel_Wallonie'])]\n",
        "dataset['age_label_bin'] = dataset['age_label'].map({'-18':0,'20-29':1,'30-39':2,'40+':3})\n",
        "dataset['gender_label_bin'] = dataset['gender_label'].map({'Female':0,'Male':4})\n",
        "#We create 8 unique ids for each joint demographic category\n",
        "dataset['dem'] = dataset['age_label_bin']  + dataset['gender_label_bin'] \n",
        "dataset['id'] = dataset['user_id']"
      ]
    },
    {
      "cell_type": "code",
      "execution_count": 3,
      "metadata": {
        "id": "IBmHNwyLPpJT",
        "outputId": "91ae9112-4e27-4cda-89e5-731af8e1a449"
      },
      "outputs": [],
      "source": [
        "#Load  the census and twitter population demographics\n",
        "dem_data = pd.read_csv('Census_Demographics_Twitter.csv')\n",
        "dem_data = dem_data[dem_data.Gender != 'Tot']\n",
        "dem_data = dem_data[dem_data.Age != 'Tot']\n"
      ]
    },
    {
      "cell_type": "code",
      "execution_count": 4,
      "metadata": {
        "id": "I8x7AzmFfH8m"
      },
      "outputs": [],
      "source": [
        "dem_data['norm_Census'] = dem_data['Census'] / dem_data['Census'].sum()\n",
        "dem_data['norm_Twitter'] = dem_data['Twitter'] / dem_data['Twitter'].sum()",
        "#Group the demographic data by gender and age \n",
        "agg_data = dem_data.groupby(['Gender','Age']).agg({'Census':'sum','Twitter':'sum',\n",
        "'norm_Census':'sum','norm_Twitter':'sum'})"
      ]
    },
    {
      "cell_type": "code",
      "execution_count": 5,
      "metadata": {
        "id": "N9jk9HHDUka9"
      },
      "outputs": [],
      "source": [
        "census = np.array(agg_data['norm_Census'])\n",
        "twitter = np.array(agg_data['norm_Twitter']) "
      ]
    },
    {
      "cell_type": "code",
      "execution_count": 6,
      "metadata": {
        "id": "FuvkyqgXJcTa",
        "outputId": "3cd49420-f3a3-4a02-e97e-1f5e1a787066"
      },
      "outputs": [
        {
          "name": "stdout",
          "output_type": "stream",
          "text": [
            "Jensen-Shannon divergence before correction : 0.3844462214321886\n"
          ]
        }
      ],
      "source": [
        "#the Jensen-Shannon metric measures the divergence between two probability distribution. The lower the better in our case\n",
        "print(\"Jensen-Shannon divergence before correction : %s\"%jensenshannon(agg_data['Census'],agg_data['Twitter']))"
      ]
    },
    {
      "cell_type": "markdown",
      "metadata": {},
      "source": [
        "The high J-S divergence value clearly indicates the presence of selection bias."
      ]
    },
    {
      "cell_type": "code",
      "execution_count": 14,
      "metadata": {
        "id": "xKoPuVZNhH03",
        "outputId": "8f505a3a-8b46-4916-8e36-c1de4c296602"
      },
      "outputs": [
        {
          "data": {
            "image/png": "[encoded data removed]",
            "text/plain": [
              "<Figure size 432x288 with 1 Axes>"
            ]
          },
          "metadata": {
            "needs_background": "light"
          },
          "output_type": "display_data"
        }
      ],
      "source": [
        "colors = {'twitter':'#1f77b4', 'census':'#ff7f0e'}         \n",
        "labels = list(colors.keys())\n",
        "handles = [plt.Rectangle((0,0),1,1, color=colors[label]) for label in labels]\n",
        "plt.legend(handles, labels)\n",
        "\n",
        "plt.bar(x= np.array([0,1,2,3,4,5,6,7])  -0.2, height = twitter, width = 0.4)\n",
        "plt.bar(x =  np.array([0,1,2,3,4,5,6,7]) +0.2, height = census, width = 0.4)\n",
        "plt.xticks(ticks = [0,1,2,3,4,5,6,7], labels = ['-18 F','19-29 F','30-39 F ','40+ F','-18 M','19-29 M','30-39 M ','40+ M'], rotation = 20)\n",
        "\n",
        "plt.ylabel('Percentage of total population')\n",
        "plt.xlabel('Demographic categories');"
      ]
    },
    {
      "cell_type": "markdown",
      "metadata": {
        "id": "rEluU2qYQBlC"
      },
      "source": [
        "## Applying resampling \n",
        "\n"
      ]
    },
    {
      "cell_type": "markdown",
      "metadata": {
        "id": "gfF1m7Y8SGSp"
      },
      "source": [
        "The resampling algorithm is stochastic. We set a seed for reproducibility."
      ]
    },
    {
      "cell_type": "code",
      "execution_count": 41,
      "metadata": {
        "id": "Co6PvQM3Fe7j"
      },
      "outputs": [],
      "source": [
        "resampler = Resampler(seed = 42)  \n",
        "resampler.fit(census,twitter)"
      ]
    },
    {
      "cell_type": "code",
      "execution_count": 42,
      "metadata": {
        "id": "yKJcfCgtYSnE"
      },
      "outputs": [],
      "source": [
        "sample = resampler.resample(dataset)\n",
        "sample_dist = sample['dem'].value_counts(normalize = True).sort_index()"
      ]
    },
    {
      "cell_type": "code",
      "execution_count": 43,
      "metadata": {
        "id": "RuSkLJqrNAGK"
      },
      "outputs": [],
      "source": [
        "for i in range(8):\n",
        "  if i not in sample_dist.index : #If no user from that category has been sampled, add a row with value 0 for that category\n",
        "    sample_dist[i] = 0"
      ]
    },
    {
      "cell_type": "code",
      "execution_count": 44,
      "metadata": {
        "colab": {
          "base_uri": "https://localhost:8080/"
        },
        "id": "sYWqNeiSKNPG",
        "outputId": "37a6f81c-7357-4c31-d250-9fc976c881ff"
      },
      "outputs": [
        {
          "name": "stdout",
          "output_type": "stream",
          "text": [
            "Jensen-Shannon divergence after correction : 0.24448158065963516\n"
          ]
        }
      ],
      "source": [
        "print(\"Jensen-Shannon divergence after correction : %s\"%jensenshannon(agg_data['norm_Census'],sample_dist))"
      ]
    },
    {
      "cell_type": "markdown",
      "metadata": {},
      "source": [
        "Results improved a little with the default resampling parameters"
      ]
    },
    {
      "cell_type": "code",
      "execution_count": 45,
      "metadata": {
        "colab": {
          "base_uri": "https://localhost:8080/",
          "height": 294
        },
        "id": "xgIsd0ycgZDp",
        "outputId": "65070b92-080c-451a-dbca-ef55241e8e4a"
      },
      "outputs": [
        {
          "data": {
            "image/png": "[encoded data removed]",
            "text/plain": [
              "<Figure size 432x288 with 1 Axes>"
            ]
          },
          "metadata": {
            "needs_background": "light"
          },
          "output_type": "display_data"
        }
      ],
      "source": [
        "colors = {'corrected sample':'#1f77b4', 'census':'#ff7f0e'}         \n",
        "labels = list(colors.keys())\n",
        "handles = [plt.Rectangle((0,0),1,1, color=colors[label]) for label in labels]\n",
        "plt.legend(handles, labels)\n",
        "\n",
        "plt.bar(x= sample_dist.index[0:8] -0.2, height = sample_dist.values, width = 0.4)\n",
        "plt.bar(x =  np.array([0,1,2,3,4,5,6,7]) +0.2, height = census, width = 0.4)\n",
        "plt.xticks(ticks = [0,1,2,3,4,5,6,7], labels = ['-18 F','19-29 F','30-39 F ','40+ F','-18 M','19-29 M','30-39 M ','40+ M'], rotation =20)\n",
        "plt.ylabel('Percentage of total population')\n",
        "plt.xlabel('Demographic category')\n",
        "plt.plot();"
      ]
    },
    {
      "cell_type": "markdown",
      "metadata": {
        "id": "13mWrA7wKapR"
      },
      "source": [
        "## Optimizing parameters N and n\n",
        "\n",
        "We perform a small grid search to find better values for the two resampler parameters : N and n. \n"
      ]
    },
    {
      "cell_type": "code",
      "execution_count": 46,
      "metadata": {
        "colab": {
          "base_uri": "https://localhost:8080/"
        },
        "id": "5bXDlTIuKqzu",
        "outputId": "331a11d8-fb1f-42d2-c52f-a8445152d07a"
      },
      "outputs": [
        {
          "name": "stdout",
          "output_type": "stream",
          "text": [
            "Best params : 20000,50 - JS Divergence : 0.07920883786418272\n"
          ]
        }
      ],
      "source": [
        "#Grid \n",
        "param_grid = {'N':[500,1000,2000,5000,10000,15000,20000],\n",
        "              'n':[5,10,20,50,100]}\n",
        "\n",
        "min_divergence = 1\n",
        "best_N = 0\n",
        "best_n = 0\n",
        "for i in param_grid['N']:\n",
        "  for j in param_grid['n']:\n",
        "    resampler = Resampler(i,j,seed = 42)\n",
        "    sample = resampler.fit_resample(dataset,census, twitter)\n",
        "    sample_dist = sample['dem'].value_counts(normalize = True).sort_index()\n",
        "    for k in range(8):\n",
        "      if k not in sample_dist.index : \n",
        "        sample_dist[k] = 0\n",
        "    divergence = jensenshannon(agg_data['norm_Census'],sample_dist)\n",
        "    if  divergence < min_divergence:\n",
        "      min_divergence = divergence\n",
        "      best_N = i\n",
        "      best_n = j\n",
        "print('Best params : %s,%s - JS Divergence : %s'%(best_N,best_n,min_divergence))"
      ]
    },
    {
      "cell_type": "markdown",
      "metadata": {},
      "source": [
        "This is a much bigger improvement."
      ]
    },
    {
      "cell_type": "code",
      "execution_count": 57,
      "metadata": {
        "colab": {
          "base_uri": "https://localhost:8080/"
        },
        "id": "vEqh6JasQWHb",
        "outputId": "73c04bbd-a22d-40b2-ad57-1a333a8e719e"
      },
      "outputs": [
        {
          "name": "stdout",
          "output_type": "stream",
          "text": [
            "Jensen-Shannon divergence after correction : 0.07920883786418272\n"
          ]
        }
      ],
      "source": [
        "resampler = Resampler(20000,50,seed = 42)\n",
        "sample = resampler.fit_resample(dataset,census,twitter)\n",
        "sample_dist = sample['dem'].value_counts(normalize = True).sort_index()\n",
        "print(\"Jensen-Shannon divergence after correction : %s\"%jensenshannon(agg_data['norm_Census'],sample_dist))"
      ]
    },
    {
      "cell_type": "code",
      "execution_count": 58,
      "metadata": {
        "colab": {
          "base_uri": "https://localhost:8080/",
          "height": 294
        },
        "id": "dBTZYymMSkhc",
        "outputId": "6baa5ec6-0488-42e7-9499-564edb382639"
      },
      "outputs": [
        {
          "data": {
            "image/png": "[encoded data removed]",
            "text/plain": [
              "<Figure size 432x288 with 1 Axes>"
            ]
          },
          "metadata": {
            "needs_background": "light"
          },
          "output_type": "display_data"
        }
      ],
      "source": [
        "colors = {'corrected sample':'#1f77b4', 'census':'#ff7f0e'}         \n",
        "labels = list(colors.keys())\n",
        "handles = [plt.Rectangle((0,0),1,1, color=colors[label]) for label in labels]\n",
        "plt.legend(handles, labels)\n",
        "\n",
        "plt.bar(x= sample_dist.index[0:8] -0.2, height = sample_dist.values, width = 0.4)\n",
        "plt.bar(x =  np.array([0,1,2,3,4,5,6,7]) +0.2, height = census, width = 0.4)\n",
        "plt.xticks(ticks = [0,1,2,3,4,5,6,7], labels = ['-18 F','19-29 F','30-39 F ','40+ F','-18 M','19-29 M','30-39 M ','40+ M'], rotation =20)\n",
        "plt.ylabel('Percentage of total population')\n",
        "plt.xlabel('Demographic category')\n",
        "plt.plot();"
      ]
    }
  ],
  "metadata": {
    "colab": {
      "collapsed_sections": [],
      "name": "01_Resampling.ipynb",
      "provenance": []
    },
    "kernelspec": {
      "display_name": "Python 3",
      "name": "python3"
    },
    "language_info": {
      "name": "python"
    }
  },
  "nbformat": 4,
  "nbformat_minor": 0
}
