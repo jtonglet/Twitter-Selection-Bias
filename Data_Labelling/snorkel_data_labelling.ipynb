{
  "cells": [
    {
      "cell_type": "markdown",
      "metadata": {
        "id": "pJiFyWKJ4Hck"
      },
      "source": [
        "# Set-up"
      ]
    },
    {
      "cell_type": "markdown",
      "metadata": {
        "id": "dNaIFfAmk35w"
      },
      "source": [
        "## Packages"
      ]
    },
    {
      "cell_type": "code",
      "execution_count": null,
      "metadata": {
        "id": "IioSKK_6k353"
      },
      "outputs": [],
      "source": [
        "#Import packages\n",
        "import numpy as np\n",
        "import pandas as pd\n",
        "import matplotlib.pyplot as plt\n",
        "import seaborn as sns\n",
        "import re \n",
        "\n",
        "from snorkel.labeling import labeling_function\n",
        "from snorkel.labeling import PandasLFApplier\n",
        "from snorkel.labeling import LFAnalysis\n",
        "from snorkel.labeling import LabelingFunction\n",
        "from snorkel.labeling.model import LabelModel, MajorityLabelVoter\n",
        "from snorkel.labeling import filter_unlabeled_dataframe\n",
        " \n",
        "from nltk.tokenize import TweetTokenizer\n",
        "from sklearn.metrics import confusion_matrix, accuracy_score, f1_score\n",
        "from scipy.stats import kendalltau, spearmanr"
      ]
    },
    {
      "cell_type": "markdown",
      "metadata": {
        "id": "oxNKp-50BAJs"
      },
      "source": [
        "## Load data"
      ]
    },
    {
      "cell_type": "code",
      "execution_count": null,
      "metadata": {
        "id": "D2Ego2Vbk355"
      },
      "outputs": [],
      "source": [
        "#Load the train set without company accounts (27424 accounts)\n",
        "train_df = pd.read_csv('Datasets/Final_dataset/train_set_no_company.csv').fillna(\" \")\n",
        "#Load the test set\n",
        "test_df = pd.read_csv('Datasets/Final_dataset/test_set.csv').fillna(\" \")\n",
        "#Load the target labels (hand labeled)\n",
        "test_target = pd.read_csv('Datasets/Final_dataset/test_set_final.csv', sep = ',')\n",
        "\n",
        "#Remove the company accounts from the test set\n",
        "company_idx = test_target[test_target['company_label_majority'] == True].index.to_list()  \n",
        "test_target = test_target[~test_target.index.isin(company_idx)]\n",
        "test_df = test_df[~test_df.index.isin(company_idx)]"
      ]
    },
    {
      "cell_type": "code",
      "execution_count": null,
      "metadata": {
        "id": "0E-zKbiwjSD4"
      },
      "outputs": [],
      "source": [
        "def removehyperlink(row):\n",
        "  #As preprocessing, remove any hyperlinks from the user profile description\n",
        "  tt = TweetTokenizer()\n",
        "  tokenized_row = tt.tokenize(row)\n",
        "  tokenized_row = [word for word in tokenized_row if 'http' not in word]\n",
        "  return ' '.join(tokenized_row)\n",
        "\n",
        "train_df['description'] = train_df['description'].apply(lambda row: removehyperlink(row))\n",
        "test_df['description'] = test_df['description'].apply(lambda row: removehyperlink(row))"
      ]
    },
    {
      "cell_type": "code",
      "execution_count": null,
      "metadata": {
        "id": "Modbyy-sj-2u"
      },
      "outputs": [],
      "source": [
        "#Create three test sets : one for each target variable\n",
        "target_gender = test_target[test_target['gender_label_majority'] != 'Unknown'].gender_label_majority\n",
        "gender_test_df = test_df[test_df.index.isin(target_gender.index)]\n",
        "\n",
        "target_age = test_target[test_target['age_label_majority'] != 'Unknown'].age_label_majority\n",
        "age_test_df = test_df[test_df.index.isin(target_age.index)]\n",
        "\n",
        "target_location = test_target[test_target['location_label_majority'] != 'Unknown'].location_label_majority\n",
        "location_test_df = test_df[test_df.index.isin(target_location.index)]"
      ]
    },
    {
      "cell_type": "markdown",
      "metadata": {
        "id": "GNS8Oob34ULu"
      },
      "source": [
        "# Data labelling"
      ]
    },
    {
      "cell_type": "markdown",
      "metadata": {
        "id": "84wlx-r6k357"
      },
      "source": [
        "## Gender labeling\n",
        "Gender labeling can be done based on user names, keyword searches and the predictions of third-party models."
      ]
    },
    {
      "cell_type": "code",
      "execution_count": null,
      "metadata": {
        "id": "WjvrKBnCL8co"
      },
      "outputs": [],
      "source": [
        "FEMALE = 0\n",
        "MALE = 1\n",
        "ABSTAIN = -1"
      ]
    },
    {
      "cell_type": "code",
      "execution_count": null,
      "metadata": {
        "id": "33nJfT-PA3Cz"
      },
      "outputs": [],
      "source": [
        "#Code to write snorkel keyword search labeling function\n",
        "def keyword_lookup(x,keywords, label):\n",
        "  if any(word in x['description'].lower().split(' ') for word in keywords):\n",
        "    return label\n",
        "  return ABSTAIN\n",
        "\n",
        "def make_keyword_lf(keywords, label = ABSTAIN):\n",
        "  return LabelingFunction(\n",
        "      name = f\"keyword_{label}\",\n",
        "      f = keyword_lookup,\n",
        "      resources = dict(keywords = keywords, label = label),\n",
        "  )"
      ]
    },
    {
      "cell_type": "markdown",
      "metadata": {
        "id": "B2Nw1bxuXPZH"
      },
      "source": [
        "### Based on user names"
      ]
    },
    {
      "cell_type": "code",
      "execution_count": null,
      "metadata": {
        "colab": {
          "base_uri": "https://localhost:8080/"
        },
        "id": "20btSyW2k357",
        "outputId": "1b34a9e6-d673-481a-e182-9d322fceffdf"
      },
      "outputs": [],
      "source": [
        "#Isolate the first name of users, set it to lower case.\n",
        "train_df['first_name'] = train_df['name'].apply(lambda row: row.split(' ')[0].lower())\n",
        "gender_test_df['first_name'] = gender_test_df['name'].apply(lambda row: row.split(' ')[0].lower())"
      ]
    },
    {
      "cell_type": "code",
      "execution_count": null,
      "metadata": {
        "id": "E9mbWEg1k358"
      },
      "outputs": [],
      "source": [
        "#Load first names gender dictionary\n",
        "names = pd.read_csv(\"Data_Labelling/Gender/names.csv\")"
      ]
    },
    {
      "cell_type": "code",
      "execution_count": null,
      "metadata": {
        "id": "tfXz4J2ok358"
      },
      "outputs": [],
      "source": [
        "female_names = [n.lower() for n in names[\"Vrouw\"] if type(n) == str]\n",
        "male_names = [n.lower() for n in names[\"Man\"]  if type(n) == str]"
      ]
    },
    {
      "cell_type": "code",
      "execution_count": null,
      "metadata": {
        "colab": {
          "base_uri": "https://localhost:8080/"
        },
        "id": "HRjhzmuRn3yS",
        "outputId": "e97e8816-3f65-46c0-e8f5-3a8595e433a3"
      },
      "outputs": [],
      "source": [
        "female_names_set = set(female_names)\n",
        "male_names_set = set(male_names)\n",
        "bigender_names_set = female_names_set.intersection(male_names_set)"
      ]
    },
    {
      "cell_type": "code",
      "execution_count": null,
      "metadata": {
        "id": "QVfFcFHSqD27"
      },
      "outputs": [],
      "source": [
        "#Create Snorkel labelling functions\n",
        "@labeling_function()\n",
        "def male_first_name(x):\n",
        "  return MALE if x['first_name'] in male_names and not x['first_name'] in bigender_names_set else ABSTAIN\n",
        "\n",
        "@labeling_function()\n",
        "def female_first_name(x):\n",
        "  return FEMALE if x['first_name'] in female_names and not x['first_name'] in bigender_names_set else ABSTAIN"
      ]
    },
    {
      "cell_type": "markdown",
      "metadata": {
        "id": "Ipl2VrOCund-"
      },
      "source": [
        "### Based on description"
      ]
    },
    {
      "cell_type": "code",
      "execution_count": null,
      "metadata": {
        "colab": {
          "base_uri": "https://localhost:8080/"
        },
        "id": "xtMRDjDbv0Cl",
        "outputId": "16017a42-b8d8-4f24-a034-b3b7954dbf5d"
      },
      "outputs": [],
      "source": [
        "#Load gender keywords\n",
        "gender_keywords = pd.read_csv(\"Data_Labelling/Gender/GenderKeywords.csv\")\n",
        "male = gender_keywords['Male'].dropna().to_list() \n",
        "female = gender_keywords['Female'].dropna().to_list() "
      ]
    },
    {
      "cell_type": "code",
      "execution_count": null,
      "metadata": {
        "id": "zXTVge5exhoZ"
      },
      "outputs": [],
      "source": [
        "#make gender keyword LFs \n",
        "male_keywords = make_keyword_lf(keywords = male, label = MALE)\n",
        "female_keywords = make_keyword_lf(keywords = female, label = FEMALE)"
      ]
    },
    {
      "cell_type": "markdown",
      "metadata": {
        "id": "vPr6fFDhvzjq"
      },
      "source": [
        "### Based on 3rd party models (DeepFace & CLIP)\n"
      ]
    },
    {
      "cell_type": "code",
      "execution_count": null,
      "metadata": {
        "id": "VOvOJPR9wBvJ"
      },
      "outputs": [],
      "source": [
        "deepface = pd.read_csv('Data_Labelling/Gender/deepface.csv')\n",
        "CLIP = pd.read_csv('Data_Labelling/Gender/CLIP.csv')"
      ]
    },
    {
      "cell_type": "code",
      "execution_count": null,
      "metadata": {
        "id": "gSCpy22uvzjs"
      },
      "outputs": [],
      "source": [
        "#Create Snorkel labelling functions\n",
        "@labeling_function()\n",
        "def male_deepface(x,deepface = deepface):\n",
        "  pred = deepface.loc[deepface['user_id'] == x['user_id'],'deepface_gender'].values[0]\n",
        "  return MALE if pred == 1 else ABSTAIN\n",
        "\n",
        "@labeling_function()\n",
        "def female_deepface(x,deepface = deepface):\n",
        "  pred = deepface.loc[deepface['user_id'] == x['user_id'],'deepface_gender'].values[0]\n",
        "  return FEMALE if pred == 0 else ABSTAIN  \n",
        "\n",
        "@labeling_function()\n",
        "def male_CLIP(x,CLIP = CLIP):\n",
        "  pred = CLIP.loc[CLIP['user_id'] == x['user_id'],'CLIP_gender'].values[0]\n",
        "  return MALE if pred == 1 else ABSTAIN\n",
        "\n",
        "@labeling_function()\n",
        "def female_CLIP(x,CLIP = CLIP):\n",
        "  pred = CLIP.loc[CLIP['user_id'] == x['user_id'],'CLIP_gender'].values[0]\n",
        "  return FEMALE if pred == 0 else ABSTAIN \n"
      ]
    },
    {
      "cell_type": "markdown",
      "metadata": {
        "id": "XjRa6DIvArcS"
      },
      "source": [
        "### All labeling functions: predict labels using snorkel LFs for Gender"
      ]
    },
    {
      "cell_type": "code",
      "execution_count": null,
      "metadata": {
        "colab": {
          "base_uri": "https://localhost:8080/"
        },
        "id": "_Uu0YpPj1H-F",
        "outputId": "12f735c0-d149-4888-bf1c-e3d6e3492c43"
      },
      "outputs": [
        {
          "name": "stderr",
          "output_type": "stream",
          "text": [
            "100%|██████████| 27424/27424 [01:22<00:00, 334.26it/s]\n",
            "100%|██████████| 489/489 [00:01<00:00, 465.40it/s]\n"
          ]
        }
      ],
      "source": [
        "#Build the label matrix\n",
        "lfs_gender = [male_first_name, female_first_name, \n",
        "              male_keywords, female_keywords,\n",
        "              male_deepface, female_deepface,\n",
        "              male_CLIP, female_CLIP] \n",
        "gender_applier = PandasLFApplier(lfs=lfs_gender)\n",
        "L_gender = gender_applier.apply(df=train_df)\n",
        "L_gender_test = gender_applier.apply(df = gender_test_df)"
      ]
    },
    {
      "cell_type": "code",
      "execution_count": null,
      "metadata": {
        "colab": {
          "base_uri": "https://localhost:8080/"
        },
        "id": "hnHbVLea1P--",
        "outputId": "dd6134aa-6644-47bf-a2c9-2672e507f10a"
      },
      "outputs": [
        {
          "data": {
            "text/html": [
              "\n",
              "  <div id=\"df-5064f997-a6bf-4823-a7c8-557465682abb\">\n",
              "    <div class=\"colab-df-container\">\n",
              "      <div>\n",
              "<style scoped>\n",
              "    .dataframe tbody tr th:only-of-type {\n",
              "        vertical-align: middle;\n",
              "    }\n",
              "\n",
              "    .dataframe tbody tr th {\n",
              "        vertical-align: top;\n",
              "    }\n",
              "\n",
              "    .dataframe thead th {\n",
              "        text-align: right;\n",
              "    }\n",
              "</style>\n",
              "<table border=\"1\" class=\"dataframe\">\n",
              "  <thead>\n",
              "    <tr style=\"text-align: right;\">\n",
              "      <th></th>\n",
              "      <th>j</th>\n",
              "      <th>Polarity</th>\n",
              "      <th>Coverage</th>\n",
              "      <th>Overlaps</th>\n",
              "      <th>Conflicts</th>\n",
              "    </tr>\n",
              "  </thead>\n",
              "  <tbody>\n",
              "    <tr>\n",
              "      <th>male_first_name</th>\n",
              "      <td>0</td>\n",
              "      <td>[1]</td>\n",
              "      <td>0.370223</td>\n",
              "      <td>0.294487</td>\n",
              "      <td>0.008897</td>\n",
              "    </tr>\n",
              "    <tr>\n",
              "      <th>female_first_name</th>\n",
              "      <td>1</td>\n",
              "      <td>[0]</td>\n",
              "      <td>0.158438</td>\n",
              "      <td>0.125000</td>\n",
              "      <td>0.034094</td>\n",
              "    </tr>\n",
              "    <tr>\n",
              "      <th>keyword_1</th>\n",
              "      <td>2</td>\n",
              "      <td>[1]</td>\n",
              "      <td>0.048716</td>\n",
              "      <td>0.044632</td>\n",
              "      <td>0.002917</td>\n",
              "    </tr>\n",
              "    <tr>\n",
              "      <th>keyword_0</th>\n",
              "      <td>3</td>\n",
              "      <td>[0]</td>\n",
              "      <td>0.028333</td>\n",
              "      <td>0.025088</td>\n",
              "      <td>0.008241</td>\n",
              "    </tr>\n",
              "    <tr>\n",
              "      <th>male_deepface</th>\n",
              "      <td>4</td>\n",
              "      <td>[1]</td>\n",
              "      <td>0.304368</td>\n",
              "      <td>0.298315</td>\n",
              "      <td>0.042590</td>\n",
              "    </tr>\n",
              "    <tr>\n",
              "      <th>female_deepface</th>\n",
              "      <td>5</td>\n",
              "      <td>[0]</td>\n",
              "      <td>0.086129</td>\n",
              "      <td>0.084889</td>\n",
              "      <td>0.007949</td>\n",
              "    </tr>\n",
              "    <tr>\n",
              "      <th>male_CLIP</th>\n",
              "      <td>6</td>\n",
              "      <td>[1]</td>\n",
              "      <td>0.467364</td>\n",
              "      <td>0.381308</td>\n",
              "      <td>0.018451</td>\n",
              "    </tr>\n",
              "    <tr>\n",
              "      <th>female_CLIP</th>\n",
              "      <td>7</td>\n",
              "      <td>[0]</td>\n",
              "      <td>0.203216</td>\n",
              "      <td>0.160407</td>\n",
              "      <td>0.040257</td>\n",
              "    </tr>\n",
              "  </tbody>\n",
              "</table>\n",
              "</div>\n",
              "      <button class=\"colab-df-convert\" onclick=\"convertToInteractive('df-5064f997-a6bf-4823-a7c8-557465682abb')\"\n",
              "              title=\"Convert this dataframe to an interactive table.\"\n",
              "              style=\"display:none;\">\n",
              "        \n",
              "  <svg xmlns=\"http://www.w3.org/2000/svg\" height=\"24px\"viewBox=\"0 0 24 24\"\n",
              "       width=\"24px\">\n",
              "    <path d=\"M0 0h24v24H0V0z\" fill=\"none\"/>\n",
              "    <path d=\"M18.56 5.44l.94 2.06.94-2.06 2.06-.94-2.06-.94-.94-2.06-.94 2.06-2.06.94zm-11 1L8.5 8.5l.94-2.06 2.06-.94-2.06-.94L8.5 2.5l-.94 2.06-2.06.94zm10 10l.94 2.06.94-2.06 2.06-.94-2.06-.94-.94-2.06-.94 2.06-2.06.94z\"/><path d=\"M17.41 7.96l-1.37-1.37c-.4-.4-.92-.59-1.43-.59-.52 0-1.04.2-1.43.59L10.3 9.45l-7.72 7.72c-.78.78-.78 2.05 0 2.83L4 21.41c.39.39.9.59 1.41.59.51 0 1.02-.2 1.41-.59l7.78-7.78 2.81-2.81c.8-.78.8-2.07 0-2.86zM5.41 20L4 18.59l7.72-7.72 1.47 1.35L5.41 20z\"/>\n",
              "  </svg>\n",
              "      </button>\n",
              "      \n",
              "  <style>\n",
              "    .colab-df-container {\n",
              "      display:flex;\n",
              "      flex-wrap:wrap;\n",
              "      gap: 12px;\n",
              "    }\n",
              "\n",
              "    .colab-df-convert {\n",
              "      background-color: #E8F0FE;\n",
              "      border: none;\n",
              "      border-radius: 50%;\n",
              "      cursor: pointer;\n",
              "      display: none;\n",
              "      fill: #1967D2;\n",
              "      height: 32px;\n",
              "      padding: 0 0 0 0;\n",
              "      width: 32px;\n",
              "    }\n",
              "\n",
              "    .colab-df-convert:hover {\n",
              "      background-color: #E2EBFA;\n",
              "      box-shadow: 0px 1px 2px rgba(60, 64, 67, 0.3), 0px 1px 3px 1px rgba(60, 64, 67, 0.15);\n",
              "      fill: #174EA6;\n",
              "    }\n",
              "\n",
              "    [theme=dark] .colab-df-convert {\n",
              "      background-color: #3B4455;\n",
              "      fill: #D2E3FC;\n",
              "    }\n",
              "\n",
              "    [theme=dark] .colab-df-convert:hover {\n",
              "      background-color: #434B5C;\n",
              "      box-shadow: 0px 1px 3px 1px rgba(0, 0, 0, 0.15);\n",
              "      filter: drop-shadow(0px 1px 2px rgba(0, 0, 0, 0.3));\n",
              "      fill: #FFFFFF;\n",
              "    }\n",
              "  </style>\n",
              "\n",
              "      <script>\n",
              "        const buttonEl =\n",
              "          document.querySelector('#df-5064f997-a6bf-4823-a7c8-557465682abb button.colab-df-convert');\n",
              "        buttonEl.style.display =\n",
              "          google.colab.kernel.accessAllowed ? 'block' : 'none';\n",
              "\n",
              "        async function convertToInteractive(key) {\n",
              "          const element = document.querySelector('#df-5064f997-a6bf-4823-a7c8-557465682abb');\n",
              "          const dataTable =\n",
              "            await google.colab.kernel.invokeFunction('convertToInteractive',\n",
              "                                                     [key], {});\n",
              "          if (!dataTable) return;\n",
              "\n",
              "          const docLinkHtml = 'Like what you see? Visit the ' +\n",
              "            '<a target=\"_blank\" href=https://colab.research.google.com/notebooks/data_table.ipynb>data table notebook</a>'\n",
              "            + ' to learn more about interactive tables.';\n",
              "          element.innerHTML = '';\n",
              "          dataTable['output_type'] = 'display_data';\n",
              "          await google.colab.output.renderOutput(dataTable, element);\n",
              "          const docLink = document.createElement('div');\n",
              "          docLink.innerHTML = docLinkHtml;\n",
              "          element.appendChild(docLink);\n",
              "        }\n",
              "      </script>\n",
              "    </div>\n",
              "  </div>\n",
              "  "
            ],
            "text/plain": [
              "                   j Polarity  Coverage  Overlaps  Conflicts\n",
              "male_first_name    0      [1]  0.370223  0.294487   0.008897\n",
              "female_first_name  1      [0]  0.158438  0.125000   0.034094\n",
              "keyword_1          2      [1]  0.048716  0.044632   0.002917\n",
              "keyword_0          3      [0]  0.028333  0.025088   0.008241\n",
              "male_deepface      4      [1]  0.304368  0.298315   0.042590\n",
              "female_deepface    5      [0]  0.086129  0.084889   0.007949\n",
              "male_CLIP          6      [1]  0.467364  0.381308   0.018451\n",
              "female_CLIP        7      [0]  0.203216  0.160407   0.040257"
            ]
          },
          "execution_count": 25,
          "metadata": {},
          "output_type": "execute_result"
        }
      ],
      "source": [
        "#Summary statistics for the LFs applied on the train set\n",
        "LFAnalysis(L=L_gender, lfs=lfs_gender).lf_summary()"
      ]
    },
    {
      "cell_type": "markdown",
      "metadata": {
        "id": "UlReuihPk36B"
      },
      "source": [
        "\n",
        "## Age labeling\n",
        "\n",
        "\n",
        "Age labelling is the most difficult to do of our 3 target variables. It can be done based on the description or the optional birthday field. The latter one is not available to us, therefore we based everything on the description. We used keyword searches and regular expressions to write labeling functions."
      ]
    },
    {
      "cell_type": "code",
      "execution_count": null,
      "metadata": {
        "id": "2emTa7jcm_e1"
      },
      "outputs": [],
      "source": [
        "MINOR = 1\n",
        "TWENTIES = 2\n",
        "THIRTIES = 3\n",
        "FOURTIESABOVE = 4\n",
        "ABSTAIN = -1"
      ]
    },
    {
      "cell_type": "markdown",
      "metadata": {
        "id": "_sLIiJgf3Toi"
      },
      "source": [
        "### Based on description"
      ]
    },
    {
      "cell_type": "markdown",
      "metadata": {
        "id": "kzl6eX8sRoax"
      },
      "source": [
        "#### Keyword searches"
      ]
    },
    {
      "cell_type": "code",
      "execution_count": null,
      "metadata": {
        "id": "mDu-_Kw2l8Kh"
      },
      "outputs": [],
      "source": [
        "#Load age keywords\n",
        "age_keywords = pd.read_csv(\"Data_Labelling/Age/AgeKeywords.csv\")\n",
        "fourtiesabove = age_keywords['40+'].dropna().to_list() \n",
        "thirties = age_keywords['30-39'].dropna().to_list() \n",
        "twenties = age_keywords['19-29'].dropna().to_list() \n",
        "minor = age_keywords['-18'].dropna().to_list() "
      ]
    },
    {
      "cell_type": "code",
      "execution_count": null,
      "metadata": {
        "id": "oF7RwNIImwyS"
      },
      "outputs": [],
      "source": [
        "#make keyword LFs \n",
        "fourtiesabove_keywords = make_keyword_lf(keywords = fourtiesabove, label = FOURTIESABOVE)\n",
        "thirties_keywords = make_keyword_lf(keywords = thirties, label = THIRTIES)\n",
        "twenties_keywords = make_keyword_lf(keywords = twenties, label = TWENTIES)\n",
        "minor_keywords = make_keyword_lf(keywords = minor, label = MINOR)"
      ]
    },
    {
      "cell_type": "markdown",
      "metadata": {
        "id": "wiOKLqliRtLy"
      },
      "source": [
        "#### Regular expressions"
      ]
    },
    {
      "cell_type": "code",
      "execution_count": null,
      "metadata": {
        "id": "RdTjg4XI_C8F"
      },
      "outputs": [],
      "source": [
        "#LF for minor \n",
        "#included ages 13-18: 1[3-8]\n",
        "@labeling_function()\n",
        "def regex_minor_jaar(row):\n",
        "  return MINOR if re.search(r\"([^0-9]1[3-8]\\s*(y\\/?o?)\\s)|(\\b1[3-8]\\s*-?(i?)(jaar|jaren|years?|lentes|jarige?|años))\", row['description']) else ABSTAIN\n",
        "\n",
        "@labeling_function()\n",
        "def regex_minor_begin(row):\n",
        "  return MINOR if re.search(r\"(^\\s*1[3-8]\\s*[^0-9\\./])|(^°?\\s*200[4-9]\\s*)|(^°?\\s*[0-3][0-9]\\s?/\\s?[0-1][0-9]\\s?/\\s?200[4-9]\\s*)\", row['description']) else ABSTAIN\n",
        "\n",
        "@labeling_function()\n",
        "def regex_minor_only(row):\n",
        "  return MINOR if re.search(r\"(^\\s*1[3-8]\\s*$)|(^\\s*200[4-9]\\s*$)\", row['description']) else ABSTAIN\n",
        "\n",
        "@labeling_function()\n",
        "def regex_minor_delimiterage(row):\n",
        "  return MINOR if re.search(r\"([^0-9]\\|\\s?1[3-8]\\s?\\|[^0-9])|([^0-9]\\.\\s?1[3-8]\\s?\\.[^0-9])|([^0-9],\\s?1[3-8]\\s?,[^0-9])|([^0-9]-\\s?1[3-8]\\s?-[^0-9])|([^0-9]•\\s?1[3-8]\\s?•[^0-9])\", row['description']) else ABSTAIN\n",
        "\n",
        "@labeling_function()\n",
        "def regex_minor_delimiterbd(row):\n",
        "  return MINOR if re.search(r\"(\\|\\s?[0-3][0-9]\\s?/\\s?[0-1][0-9]\\s?/\\s?200[4-9]\\s?\\|)|(\\.\\s?[0-3][0-9]\\s?/\\s?[0-1][0-9]\\s?/\\s?200[4-9]\\s?\\.)|(,\\s?[0-3][0-9]\\s?/\\s?[0-1][0-9]\\s?/\\s?200[4-9]\\s?,)|(-\\s?[0-3][0-9]\\s?/\\s?[0-1][0-9]\\s?/\\s?200[4-9]\\s?-)|(•\\s?[0-3][0-9]\\s?/\\s?[0-1][0-9]\\s?/\\s?200[4-9]\\s?•)\", row['description']) else ABSTAIN\n",
        "\n",
        "@labeling_function()\n",
        "def regex_minor_born(row):\n",
        "  return MINOR if re.search(r\"(\\b(?i)(born(\\sin)?|anno|est.?|circa|ca\\.?|sedert|°)\\s*'?0[4-9]\\s)|(^\\s*(?i)(since|sinds)\\s*'?0[4-9]\\s)\", row['description']) else ABSTAIN\n",
        "\n",
        "@labeling_function()\n",
        "def regex_minor_bornfull(row):\n",
        "  return MINOR if re.search(r\"(\\b(?i)(born(\\son)?|anno|est.?|circa|ca\\.?|sedert|since|°|birthday)\\s*\\W*[0-3][0-9]\\s?/\\s?[0-1][0-9]\\s?/\\s?200[4-9])|(^\\s*(?i)(since|sinds)\\s*\\W*[0-3][0-9]\\s?/\\s?[0-1][0-9]\\s?/\\s?200[4-9])\", row['description']) else ABSTAIN\n"
      ]
    },
    {
      "cell_type": "code",
      "execution_count": null,
      "metadata": {
        "id": "bTvmPAe1LobP"
      },
      "outputs": [],
      "source": [
        "#LF for twenties \n",
        "#included ages 19-29\n",
        "@labeling_function()\n",
        "def regex_twenties_jaar(row):\n",
        "  return TWENTIES if re.search(r\"([^0-9](19|2[0-9])\\s*(y\\/?o?)\\s)|(\\b(19|2[0-9])\\s*-?(i?)(jaar|jaren|years?|lentes|jarige?|años))\", row['description']) else ABSTAIN\n",
        "\n",
        "@labeling_function()\n",
        "def regex_twenties_begin(row):\n",
        "  return TWENTIES if re.search(r\"(^\\s*(19|2[0-9])\\s*[^0-9])|(^°?\\s*(200[0-3]|199[3-9])\\s*)|(^°?\\s*[0-3][0-9]\\s?/\\s?[0-1][0-9]\\s?/\\s?(200[0-3]|199[3-9])\\s*)\", row['description']) else ABSTAIN\n",
        "\n",
        "@labeling_function()\n",
        "def regex_twenties_only(row):\n",
        "  return TWENTIES if re.search(r\"(^\\s*(19|2[0-9])\\s*$)|(^\\s*(200[0-3]|199[3-9])\\s*$)\", row['description']) else ABSTAIN\n",
        "\n",
        "@labeling_function()\n",
        "def regex_twenties_delimiterage(row):\n",
        "  return TWENTIES if re.search(r\"([^0-9]\\|\\s?(19|2[0-9])\\s?\\|[^0-9])|([^0-9]\\.\\s?(19|2[0-9])\\s?\\.[^0-9])|([^0-9],\\s?(19|2[0-9])\\s?,[^0-9])|([^0-9]-\\s?(19|2[0-9])\\s?-[^0-9])|([^0-9]•\\s?(19|2[0-9])\\s?•[^0-9])\", row['description']) else ABSTAIN\n",
        "\n",
        "@labeling_function()\n",
        "def regex_twenties_delimiterbd(row):\n",
        "  return TWENTIES if re.search(r\"(\\|\\s?[0-3][0-9]\\s?/\\s?[0-1][0-9]\\s?/\\s?(200[0-3]|199[3-9])\\s?\\|)|(\\.\\s?[0-3][0-9]\\s?/\\s?[0-1][0-9]\\s?/\\s?(200[0-3]|199[3-9])\\s?\\.)|(,\\s?[0-3][0-9]\\s?/\\s?[0-1][0-9]\\s?/\\s?(200[0-3]|199[3-9])\\s?,)|(-\\s?[0-3][0-9]\\s?/\\s?[0-1][0-9]\\s?/\\s?(200[0-3]|199[3-9])\\s?-)|(•\\s?[0-3][0-9]\\s?/\\s?[0-1][0-9]\\s?/\\s?(200[0-3]|199[3-9])\\s?•)\", row['description']) else ABSTAIN\n",
        "\n",
        "@labeling_function()\n",
        "def regex_twenties_born(row):\n",
        "  return TWENTIES if re.search(r\"(\\b(?i)(born(\\sin)?|anno|est.?|circa|ca\\.?|sedert|°)\\s*(((19|')?9[3-9])|((20|')?0[0-3]))\\s)|(^\\s*(?i)(since|sinds)\\s*(((19|')?9[3-9])|((20|')?0[0-3]))\\s)\", row['description']) else ABSTAIN\n",
        "\n",
        "@labeling_function()\n",
        "def regex_twenties_bornfull(row):\n",
        "  return TWENTIES if re.search(r\"(\\b(?i)(born(\\son)?|anno|est.?|circa|ca\\.?|sedert|since|°|birthday)\\s*\\W*[0-3][0-9]\\s?/\\s?[0-1][0-9]\\s?/\\s?(200[0-3]|199[3-9]))|(^\\s*(?i)(since|sinds)\\s*\\W*[0-3][0-9]\\s?/\\s?[0-1][0-9]\\s?/\\s?(200[0-3]|199[3-9]))\", row['description']) else ABSTAIN\n"
      ]
    },
    {
      "cell_type": "code",
      "execution_count": null,
      "metadata": {
        "id": "nLJwhpN6ONUX"
      },
      "outputs": [],
      "source": [
        "#LF for thirties\n",
        "#included ages 30-39\n",
        "@labeling_function()\n",
        "def regex_thirties_jaar(row):\n",
        "  return THIRTIES if re.search(r\"([^0-9]3[0-9]\\s*(y\\/?o?)\\s)|(\\b(3[0-9])\\s*-?(i?)(jaar|jaren|years?|lentes|jarige?|años))\", row['description']) else ABSTAIN\n",
        "\n",
        "@labeling_function()\n",
        "def regex_thirties_begin(row):\n",
        "  return THIRTIES if re.search(r\"(^\\s*3[0-9]\\s*[^0-9])|(^°?\\s*(198[3-9]|199[0-2])\\s*)|(^°?\\s*[0-3][0-9]\\s?/\\s?[0-1][0-9]\\s?/\\s?(198[3-9]|199[0-2])\\s*)\", row['description']) else ABSTAIN\n",
        "\n",
        "@labeling_function()\n",
        "def regex_thirties_only(row):\n",
        "  return THIRTIES if re.search(r\"(^\\s*3[0-9]\\s*$)|(^\\s*(198[3-9]|199[0-2])\\s*$)\", row['description']) else ABSTAIN\n",
        "\n",
        "@labeling_function()\n",
        "def regex_thirties_delimiterage(row):\n",
        "  return THIRTIES if re.search(r\"([^0-9]\\|\\s?3[0-9]\\s?\\|[^0-9])|([^0-9]\\.\\s?3[0-9]\\s?\\.[^0-9])|([^0-9],\\s?3[0-9]\\s?,[^0-9])|([^0-9]-\\s?3[0-9]\\s?-[^0-9])|([^0-9]•\\s?3[0-9]\\s?•[^0-9])\", row['description']) else ABSTAIN\n",
        "\n",
        "@labeling_function()\n",
        "def regex_thirties_delimiterbd(row):\n",
        "  return THIRTIES if re.search(r\"(\\|\\s?[0-3][0-9]\\s?/\\s?[0-1][0-9]\\s?/\\s?(198[3-9]|199[0-2])\\s?\\|)|(\\.\\s?[0-3][0-9]\\s?/\\s?[0-1][0-9]\\s?/\\s?(198[3-9]|199[0-2])\\s?\\.)|(,\\s?[0-3][0-9]\\s?/\\s?[0-1][0-9]\\s?/\\s?(198[3-9]|199[0-2])\\s?,)|(-\\s?[0-3][0-9]\\s?/\\s?[0-1][0-9]\\s?/\\s?(198[3-9]|199[0-2])\\s?-)|(•\\s?[0-3][0-9]\\s?/\\s?[0-1][0-9]\\s?/\\s?(198[3-9]|199[0-2])\\s?•)\", row['description']) else ABSTAIN\n",
        "\n",
        "@labeling_function()\n",
        "def regex_thirties_born(row):\n",
        "  return THIRTIES if re.search(r\"(\\b(?i)(born(\\sin)?|anno|est.?|circa|ca\\.?|sedert|°)\\s*(19|')?(8[3-9]|9[0-2])\\s)|(^\\s*(?i)(since|sinds)\\s*(19|')?(8[3-9]|9[0-2])\\s)\", row['description']) else ABSTAIN\n",
        "\n",
        "@labeling_function()\n",
        "def regex_thirties_bornfull(row):\n",
        "  return THIRTIES if re.search(r\"(\\b(?i)(born(\\son)?|anno|est.?|circa|ca\\.?|sedert|since|°|birthday)\\s*\\W*[0-3][0-9]\\s?/\\s?[0-1][0-9]\\s?/\\s?(198[3-9]|199[0-2]))|(^\\s*(?i)(since|sinds)\\s*\\W*[0-3][0-9]\\s?/\\s?[0-1][0-9]\\s?/\\s?(198[3-9]|199[0-2]))\", row['description']) else ABSTAIN\n"
      ]
    },
    {
      "cell_type": "code",
      "execution_count": null,
      "metadata": {
        "id": "uGhg9aA_OoOh"
      },
      "outputs": [],
      "source": [
        "#LF for 40+\n",
        "#included ages 40-80\n",
        "@labeling_function()\n",
        "def regex_fourtiesabove_jaar(row):\n",
        "  return FOURTIESABOVE if re.search(r\"([^0-9]([4-7][0-9]|80)\\s*(y\\/?o?)\\s)|(\\b([4-7][0-9]|80)\\s*-?(i?)(jaar|jaren|years?|lentes|jarige?|años))\", row['description']) else ABSTAIN\n",
        "\n",
        "@labeling_function()\n",
        "def regex_fourtiesabove_begin(row):\n",
        "  return FOURTIESABOVE if re.search(r\"(^\\s*([4-7][0-9]|80)\\s*[^0-9])|(^°?\\s*19(4[2-9]|[5-7][0-9]|8[0-2])\\s*)|(^°?\\s*[0-3][0-9]\\s?/\\s?[0-1][0-9]\\s?/\\s?19(4[2-9]|[5-7][0-9]|8[0-2])\\s*)\", row['description']) else ABSTAIN\n",
        "\n",
        "@labeling_function()\n",
        "def regex_fourtiesabove_only(row):\n",
        "  return FOURTIESABOVE if re.search(r\"(^\\s*([4-7][0-9]|80)\\s*$)|(^\\s*19(4[2-9]|[5-7][0-9]|8[0-2])\\s*$)\", row['description']) else ABSTAIN\n",
        "\n",
        "@labeling_function()\n",
        "def regex_fourtiesabove_delimiterage(row):\n",
        "  return FOURTIESABOVE if re.search(r\"([^0-9]\\|\\s?([4-7][0-9]|80)\\s?\\|[^0-9])|([^0-9]\\.\\s?([4-7][0-9]|80)\\s?\\.[^0-9])|([^0-9],\\s?([4-7][0-9]|80)\\s?,[^0-9])|([^0-9]-\\s?([4-7][0-9]|80)\\s?-[^0-9])|([^0-9]•\\s?([4-7][0-9]|80)\\s?•[^0-9])\", row['description']) else ABSTAIN\n",
        "\n",
        "@labeling_function()\n",
        "def regex_fourtiesabove_delimiterbd(row):\n",
        "  return FOURTIESABOVE if re.search(r\"(\\|\\s?[0-3][0-9]\\s?/\\s?[0-1][0-9]\\s?/\\s?19(4[2-9]|[5-7][0-9]|8[0-2])\\s?\\|)|(\\.\\s?[0-3][0-9]\\s?/\\s?[0-1][0-9]\\s?/\\s?19(4[2-9]|[5-7][0-9]|8[0-2])\\s?\\.)|(,\\s?[0-3][0-9]\\s?/\\s?[0-1][0-9]\\s?/\\s?19(4[2-9]|[5-7][0-9]|8[0-2])\\s?,)|(-\\s?[0-3][0-9]\\s?/\\s?[0-1][0-9]\\s?/\\s?19(4[2-9]|[5-7][0-9]|8[0-2])\\s?-)|(•\\s?[0-3][0-9]\\s?/\\s?[0-1][0-9]\\s?/\\s?19(4[2-9]|[5-7][0-9]|8[0-2])\\s?•)\", row['description']) else ABSTAIN\n",
        "\n",
        "@labeling_function()\n",
        "def regex_fourtiesabove_born(row):\n",
        "  return FOURTIESABOVE if re.search(r\"(\\b(?i)(born(\\sin)?|anno|est.?|circa|ca\\.?|sedert|°)\\s*(19|')?(4[2-9]|[5-7][0-9]|8[0-2])\\s)|(^\\s*(?i)(since|sinds)\\s*(19|')?(4[2-9]|[5-7][0-9]|8[0-2])\\s)\", row['description']) else ABSTAIN\n",
        "\n",
        "@labeling_function()\n",
        "def regex_fourtiesabove_bornfull(row):\n",
        "  return FOURTIESABOVE if re.search(r\"(\\b(?i)(born(\\son)?|anno|est.?|circa|ca\\.?|sedert|since|°|birthday)\\s*\\W*[0-3][0-9]\\s?/\\s?[0-1][0-9]\\s?/\\s?19(4[2-9]|[5-7][0-9]|8[0-2]))|(^\\s*(?i)(since|sinds)\\s*\\W*[0-3][0-9]\\s?/\\s?[0-1][0-9]\\s?/\\s?19(4[2-9]|[5-7][0-9]|8[0-2]))\", row['description']) else ABSTAIN"
      ]
    },
    {
      "cell_type": "markdown",
      "metadata": {
        "id": "kHPe0TwGDEu1"
      },
      "source": [
        "### All labeling functions: predict labels using snorkel LFs for Age\n",
        "\n",
        "\n"
      ]
    },
    {
      "cell_type": "code",
      "execution_count": null,
      "metadata": {
        "colab": {
          "base_uri": "https://localhost:8080/"
        },
        "id": "3yhH0RY_g89L",
        "outputId": "9950fb76-0681-4b5b-f162-4a97abacffd7"
      },
      "outputs": [
        {
          "name": "stderr",
          "output_type": "stream",
          "text": [
            "  0%|          | 0/27424 [00:00<?, ?it/s]/usr/local/lib/python3.7/dist-packages/ipykernel_launcher.py:25: DeprecationWarning: Flags not at the start of the expression '(\\\\b(?i)(born(\\\\sin)?|' (truncated)\n",
            "/usr/local/lib/python3.7/dist-packages/ipykernel_launcher.py:29: DeprecationWarning: Flags not at the start of the expression '(\\\\b(?i)(born(\\\\son)?|' (truncated)\n",
            "100%|██████████| 27424/27424 [00:17<00:00, 1591.76it/s]\n",
            "100%|██████████| 362/362 [00:00<00:00, 1490.56it/s]\n"
          ]
        },
        {
          "data": {
            "text/html": [
              "\n",
              "  <div id=\"df-ab518e53-574a-48dd-a0fb-1fc5e9466157\">\n",
              "    <div class=\"colab-df-container\">\n",
              "      <div>\n",
              "<style scoped>\n",
              "    .dataframe tbody tr th:only-of-type {\n",
              "        vertical-align: middle;\n",
              "    }\n",
              "\n",
              "    .dataframe tbody tr th {\n",
              "        vertical-align: top;\n",
              "    }\n",
              "\n",
              "    .dataframe thead th {\n",
              "        text-align: right;\n",
              "    }\n",
              "</style>\n",
              "<table border=\"1\" class=\"dataframe\">\n",
              "  <thead>\n",
              "    <tr style=\"text-align: right;\">\n",
              "      <th></th>\n",
              "      <th>j</th>\n",
              "      <th>Polarity</th>\n",
              "      <th>Coverage</th>\n",
              "      <th>Overlaps</th>\n",
              "      <th>Conflicts</th>\n",
              "    </tr>\n",
              "  </thead>\n",
              "  <tbody>\n",
              "    <tr>\n",
              "      <th>keyword_1</th>\n",
              "      <td>0</td>\n",
              "      <td>[1]</td>\n",
              "      <td>0.000255</td>\n",
              "      <td>0.000036</td>\n",
              "      <td>0.000036</td>\n",
              "    </tr>\n",
              "    <tr>\n",
              "      <th>keyword_2</th>\n",
              "      <td>1</td>\n",
              "      <td>[2]</td>\n",
              "      <td>0.010028</td>\n",
              "      <td>0.001641</td>\n",
              "      <td>0.000109</td>\n",
              "    </tr>\n",
              "    <tr>\n",
              "      <th>keyword_3</th>\n",
              "      <td>2</td>\n",
              "      <td>[3]</td>\n",
              "      <td>0.000255</td>\n",
              "      <td>0.000000</td>\n",
              "      <td>0.000000</td>\n",
              "    </tr>\n",
              "    <tr>\n",
              "      <th>keyword_4</th>\n",
              "      <td>3</td>\n",
              "      <td>[4]</td>\n",
              "      <td>0.003719</td>\n",
              "      <td>0.000219</td>\n",
              "      <td>0.000146</td>\n",
              "    </tr>\n",
              "    <tr>\n",
              "      <th>regex_minor_jaar</th>\n",
              "      <td>4</td>\n",
              "      <td>[1]</td>\n",
              "      <td>0.001021</td>\n",
              "      <td>0.000255</td>\n",
              "      <td>0.000182</td>\n",
              "    </tr>\n",
              "    <tr>\n",
              "      <th>regex_minor_begin</th>\n",
              "      <td>5</td>\n",
              "      <td>[1]</td>\n",
              "      <td>0.001130</td>\n",
              "      <td>0.000146</td>\n",
              "      <td>0.000073</td>\n",
              "    </tr>\n",
              "    <tr>\n",
              "      <th>regex_minor_only</th>\n",
              "      <td>6</td>\n",
              "      <td>[1]</td>\n",
              "      <td>0.000219</td>\n",
              "      <td>0.000000</td>\n",
              "      <td>0.000000</td>\n",
              "    </tr>\n",
              "    <tr>\n",
              "      <th>regex_minor_delimiterage</th>\n",
              "      <td>7</td>\n",
              "      <td>[1]</td>\n",
              "      <td>0.000073</td>\n",
              "      <td>0.000036</td>\n",
              "      <td>0.000036</td>\n",
              "    </tr>\n",
              "    <tr>\n",
              "      <th>regex_minor_delimiterbd</th>\n",
              "      <td>8</td>\n",
              "      <td>[]</td>\n",
              "      <td>0.000000</td>\n",
              "      <td>0.000000</td>\n",
              "      <td>0.000000</td>\n",
              "    </tr>\n",
              "    <tr>\n",
              "      <th>regex_minor_born</th>\n",
              "      <td>9</td>\n",
              "      <td>[]</td>\n",
              "      <td>0.000000</td>\n",
              "      <td>0.000000</td>\n",
              "      <td>0.000000</td>\n",
              "    </tr>\n",
              "    <tr>\n",
              "      <th>regex_minor_bornfull</th>\n",
              "      <td>10</td>\n",
              "      <td>[]</td>\n",
              "      <td>0.000000</td>\n",
              "      <td>0.000000</td>\n",
              "      <td>0.000000</td>\n",
              "    </tr>\n",
              "    <tr>\n",
              "      <th>regex_twenties_jaar</th>\n",
              "      <td>11</td>\n",
              "      <td>[2]</td>\n",
              "      <td>0.005141</td>\n",
              "      <td>0.002370</td>\n",
              "      <td>0.000109</td>\n",
              "    </tr>\n",
              "    <tr>\n",
              "      <th>regex_twenties_begin</th>\n",
              "      <td>12</td>\n",
              "      <td>[2]</td>\n",
              "      <td>0.016992</td>\n",
              "      <td>0.003136</td>\n",
              "      <td>0.000109</td>\n",
              "    </tr>\n",
              "    <tr>\n",
              "      <th>regex_twenties_only</th>\n",
              "      <td>13</td>\n",
              "      <td>[2]</td>\n",
              "      <td>0.001313</td>\n",
              "      <td>0.000109</td>\n",
              "      <td>0.000000</td>\n",
              "    </tr>\n",
              "    <tr>\n",
              "      <th>regex_twenties_delimiterage</th>\n",
              "      <td>14</td>\n",
              "      <td>[2]</td>\n",
              "      <td>0.002188</td>\n",
              "      <td>0.000292</td>\n",
              "      <td>0.000036</td>\n",
              "    </tr>\n",
              "    <tr>\n",
              "      <th>regex_twenties_delimiterbd</th>\n",
              "      <td>15</td>\n",
              "      <td>[2]</td>\n",
              "      <td>0.000036</td>\n",
              "      <td>0.000000</td>\n",
              "      <td>0.000000</td>\n",
              "    </tr>\n",
              "    <tr>\n",
              "      <th>regex_twenties_born</th>\n",
              "      <td>16</td>\n",
              "      <td>[2]</td>\n",
              "      <td>0.000365</td>\n",
              "      <td>0.000073</td>\n",
              "      <td>0.000073</td>\n",
              "    </tr>\n",
              "    <tr>\n",
              "      <th>regex_twenties_bornfull</th>\n",
              "      <td>17</td>\n",
              "      <td>[2]</td>\n",
              "      <td>0.000036</td>\n",
              "      <td>0.000000</td>\n",
              "      <td>0.000000</td>\n",
              "    </tr>\n",
              "    <tr>\n",
              "      <th>regex_thirties_jaar</th>\n",
              "      <td>18</td>\n",
              "      <td>[3]</td>\n",
              "      <td>0.001495</td>\n",
              "      <td>0.000401</td>\n",
              "      <td>0.000036</td>\n",
              "    </tr>\n",
              "    <tr>\n",
              "      <th>regex_thirties_begin</th>\n",
              "      <td>19</td>\n",
              "      <td>[3]</td>\n",
              "      <td>0.001969</td>\n",
              "      <td>0.000438</td>\n",
              "      <td>0.000073</td>\n",
              "    </tr>\n",
              "    <tr>\n",
              "      <th>regex_thirties_only</th>\n",
              "      <td>20</td>\n",
              "      <td>[]</td>\n",
              "      <td>0.000000</td>\n",
              "      <td>0.000000</td>\n",
              "      <td>0.000000</td>\n",
              "    </tr>\n",
              "    <tr>\n",
              "      <th>regex_thirties_delimiterage</th>\n",
              "      <td>21</td>\n",
              "      <td>[3]</td>\n",
              "      <td>0.000365</td>\n",
              "      <td>0.000036</td>\n",
              "      <td>0.000036</td>\n",
              "    </tr>\n",
              "    <tr>\n",
              "      <th>regex_thirties_delimiterbd</th>\n",
              "      <td>22</td>\n",
              "      <td>[3]</td>\n",
              "      <td>0.000036</td>\n",
              "      <td>0.000000</td>\n",
              "      <td>0.000000</td>\n",
              "    </tr>\n",
              "    <tr>\n",
              "      <th>regex_thirties_born</th>\n",
              "      <td>23</td>\n",
              "      <td>[3]</td>\n",
              "      <td>0.000182</td>\n",
              "      <td>0.000000</td>\n",
              "      <td>0.000000</td>\n",
              "    </tr>\n",
              "    <tr>\n",
              "      <th>regex_thirties_bornfull</th>\n",
              "      <td>24</td>\n",
              "      <td>[3]</td>\n",
              "      <td>0.000036</td>\n",
              "      <td>0.000000</td>\n",
              "      <td>0.000000</td>\n",
              "    </tr>\n",
              "    <tr>\n",
              "      <th>regex_fourtiesabove_jaar</th>\n",
              "      <td>25</td>\n",
              "      <td>[4]</td>\n",
              "      <td>0.001386</td>\n",
              "      <td>0.000401</td>\n",
              "      <td>0.000036</td>\n",
              "    </tr>\n",
              "    <tr>\n",
              "      <th>regex_fourtiesabove_begin</th>\n",
              "      <td>26</td>\n",
              "      <td>[4]</td>\n",
              "      <td>0.001750</td>\n",
              "      <td>0.000438</td>\n",
              "      <td>0.000109</td>\n",
              "    </tr>\n",
              "    <tr>\n",
              "      <th>regex_fourtiesabove_only</th>\n",
              "      <td>27</td>\n",
              "      <td>[4]</td>\n",
              "      <td>0.000109</td>\n",
              "      <td>0.000036</td>\n",
              "      <td>0.000000</td>\n",
              "    </tr>\n",
              "    <tr>\n",
              "      <th>regex_fourtiesabove_delimiterage</th>\n",
              "      <td>28</td>\n",
              "      <td>[4]</td>\n",
              "      <td>0.000182</td>\n",
              "      <td>0.000000</td>\n",
              "      <td>0.000000</td>\n",
              "    </tr>\n",
              "    <tr>\n",
              "      <th>regex_fourtiesabove_delimiterbd</th>\n",
              "      <td>29</td>\n",
              "      <td>[]</td>\n",
              "      <td>0.000000</td>\n",
              "      <td>0.000000</td>\n",
              "      <td>0.000000</td>\n",
              "    </tr>\n",
              "    <tr>\n",
              "      <th>regex_fourtiesabove_born</th>\n",
              "      <td>30</td>\n",
              "      <td>[4]</td>\n",
              "      <td>0.000219</td>\n",
              "      <td>0.000000</td>\n",
              "      <td>0.000000</td>\n",
              "    </tr>\n",
              "    <tr>\n",
              "      <th>regex_fourtiesabove_bornfull</th>\n",
              "      <td>31</td>\n",
              "      <td>[4]</td>\n",
              "      <td>0.000146</td>\n",
              "      <td>0.000000</td>\n",
              "      <td>0.000000</td>\n",
              "    </tr>\n",
              "  </tbody>\n",
              "</table>\n",
              "</div>\n",
              "      <button class=\"colab-df-convert\" onclick=\"convertToInteractive('df-ab518e53-574a-48dd-a0fb-1fc5e9466157')\"\n",
              "              title=\"Convert this dataframe to an interactive table.\"\n",
              "              style=\"display:none;\">\n",
              "        \n",
              "  <svg xmlns=\"http://www.w3.org/2000/svg\" height=\"24px\"viewBox=\"0 0 24 24\"\n",
              "       width=\"24px\">\n",
              "    <path d=\"M0 0h24v24H0V0z\" fill=\"none\"/>\n",
              "    <path d=\"M18.56 5.44l.94 2.06.94-2.06 2.06-.94-2.06-.94-.94-2.06-.94 2.06-2.06.94zm-11 1L8.5 8.5l.94-2.06 2.06-.94-2.06-.94L8.5 2.5l-.94 2.06-2.06.94zm10 10l.94 2.06.94-2.06 2.06-.94-2.06-.94-.94-2.06-.94 2.06-2.06.94z\"/><path d=\"M17.41 7.96l-1.37-1.37c-.4-.4-.92-.59-1.43-.59-.52 0-1.04.2-1.43.59L10.3 9.45l-7.72 7.72c-.78.78-.78 2.05 0 2.83L4 21.41c.39.39.9.59 1.41.59.51 0 1.02-.2 1.41-.59l7.78-7.78 2.81-2.81c.8-.78.8-2.07 0-2.86zM5.41 20L4 18.59l7.72-7.72 1.47 1.35L5.41 20z\"/>\n",
              "  </svg>\n",
              "      </button>\n",
              "      \n",
              "  <style>\n",
              "    .colab-df-container {\n",
              "      display:flex;\n",
              "      flex-wrap:wrap;\n",
              "      gap: 12px;\n",
              "    }\n",
              "\n",
              "    .colab-df-convert {\n",
              "      background-color: #E8F0FE;\n",
              "      border: none;\n",
              "      border-radius: 50%;\n",
              "      cursor: pointer;\n",
              "      display: none;\n",
              "      fill: #1967D2;\n",
              "      height: 32px;\n",
              "      padding: 0 0 0 0;\n",
              "      width: 32px;\n",
              "    }\n",
              "\n",
              "    .colab-df-convert:hover {\n",
              "      background-color: #E2EBFA;\n",
              "      box-shadow: 0px 1px 2px rgba(60, 64, 67, 0.3), 0px 1px 3px 1px rgba(60, 64, 67, 0.15);\n",
              "      fill: #174EA6;\n",
              "    }\n",
              "\n",
              "    [theme=dark] .colab-df-convert {\n",
              "      background-color: #3B4455;\n",
              "      fill: #D2E3FC;\n",
              "    }\n",
              "\n",
              "    [theme=dark] .colab-df-convert:hover {\n",
              "      background-color: #434B5C;\n",
              "      box-shadow: 0px 1px 3px 1px rgba(0, 0, 0, 0.15);\n",
              "      filter: drop-shadow(0px 1px 2px rgba(0, 0, 0, 0.3));\n",
              "      fill: #FFFFFF;\n",
              "    }\n",
              "  </style>\n",
              "\n",
              "      <script>\n",
              "        const buttonEl =\n",
              "          document.querySelector('#df-ab518e53-574a-48dd-a0fb-1fc5e9466157 button.colab-df-convert');\n",
              "        buttonEl.style.display =\n",
              "          google.colab.kernel.accessAllowed ? 'block' : 'none';\n",
              "\n",
              "        async function convertToInteractive(key) {\n",
              "          const element = document.querySelector('#df-ab518e53-574a-48dd-a0fb-1fc5e9466157');\n",
              "          const dataTable =\n",
              "            await google.colab.kernel.invokeFunction('convertToInteractive',\n",
              "                                                     [key], {});\n",
              "          if (!dataTable) return;\n",
              "\n",
              "          const docLinkHtml = 'Like what you see? Visit the ' +\n",
              "            '<a target=\"_blank\" href=https://colab.research.google.com/notebooks/data_table.ipynb>data table notebook</a>'\n",
              "            + ' to learn more about interactive tables.';\n",
              "          element.innerHTML = '';\n",
              "          dataTable['output_type'] = 'display_data';\n",
              "          await google.colab.output.renderOutput(dataTable, element);\n",
              "          const docLink = document.createElement('div');\n",
              "          docLink.innerHTML = docLinkHtml;\n",
              "          element.appendChild(docLink);\n",
              "        }\n",
              "      </script>\n",
              "    </div>\n",
              "  </div>\n",
              "  "
            ],
            "text/plain": [
              "                                   j Polarity  Coverage  Overlaps  Conflicts\n",
              "keyword_1                          0      [1]  0.000255  0.000036   0.000036\n",
              "keyword_2                          1      [2]  0.010028  0.001641   0.000109\n",
              "keyword_3                          2      [3]  0.000255  0.000000   0.000000\n",
              "keyword_4                          3      [4]  0.003719  0.000219   0.000146\n",
              "regex_minor_jaar                   4      [1]  0.001021  0.000255   0.000182\n",
              "regex_minor_begin                  5      [1]  0.001130  0.000146   0.000073\n",
              "regex_minor_only                   6      [1]  0.000219  0.000000   0.000000\n",
              "regex_minor_delimiterage           7      [1]  0.000073  0.000036   0.000036\n",
              "regex_minor_delimiterbd            8       []  0.000000  0.000000   0.000000\n",
              "regex_minor_born                   9       []  0.000000  0.000000   0.000000\n",
              "regex_minor_bornfull              10       []  0.000000  0.000000   0.000000\n",
              "regex_twenties_jaar               11      [2]  0.005141  0.002370   0.000109\n",
              "regex_twenties_begin              12      [2]  0.016992  0.003136   0.000109\n",
              "regex_twenties_only               13      [2]  0.001313  0.000109   0.000000\n",
              "regex_twenties_delimiterage       14      [2]  0.002188  0.000292   0.000036\n",
              "regex_twenties_delimiterbd        15      [2]  0.000036  0.000000   0.000000\n",
              "regex_twenties_born               16      [2]  0.000365  0.000073   0.000073\n",
              "regex_twenties_bornfull           17      [2]  0.000036  0.000000   0.000000\n",
              "regex_thirties_jaar               18      [3]  0.001495  0.000401   0.000036\n",
              "regex_thirties_begin              19      [3]  0.001969  0.000438   0.000073\n",
              "regex_thirties_only               20       []  0.000000  0.000000   0.000000\n",
              "regex_thirties_delimiterage       21      [3]  0.000365  0.000036   0.000036\n",
              "regex_thirties_delimiterbd        22      [3]  0.000036  0.000000   0.000000\n",
              "regex_thirties_born               23      [3]  0.000182  0.000000   0.000000\n",
              "regex_thirties_bornfull           24      [3]  0.000036  0.000000   0.000000\n",
              "regex_fourtiesabove_jaar          25      [4]  0.001386  0.000401   0.000036\n",
              "regex_fourtiesabove_begin         26      [4]  0.001750  0.000438   0.000109\n",
              "regex_fourtiesabove_only          27      [4]  0.000109  0.000036   0.000000\n",
              "regex_fourtiesabove_delimiterage  28      [4]  0.000182  0.000000   0.000000\n",
              "regex_fourtiesabove_delimiterbd   29       []  0.000000  0.000000   0.000000\n",
              "regex_fourtiesabove_born          30      [4]  0.000219  0.000000   0.000000\n",
              "regex_fourtiesabove_bornfull      31      [4]  0.000146  0.000000   0.000000"
            ]
          },
          "execution_count": 34,
          "metadata": {},
          "output_type": "execute_result"
        }
      ],
      "source": [
        "lfs_age = [minor_keywords, twenties_keywords, thirties_keywords, fourtiesabove_keywords,\n",
        "           regex_minor_jaar, regex_minor_begin, regex_minor_only, regex_minor_delimiterage, \n",
        "           regex_minor_delimiterbd, regex_minor_born, regex_minor_bornfull,\n",
        "           regex_twenties_jaar, regex_twenties_begin, regex_twenties_only, regex_twenties_delimiterage, \n",
        "           regex_twenties_delimiterbd, regex_twenties_born, regex_twenties_bornfull,\n",
        "           regex_thirties_jaar, regex_thirties_begin, regex_thirties_only, regex_thirties_delimiterage, \n",
        "           regex_thirties_delimiterbd, regex_thirties_born, regex_thirties_bornfull,\n",
        "           regex_fourtiesabove_jaar, regex_fourtiesabove_begin, regex_fourtiesabove_only, regex_fourtiesabove_delimiterage, \n",
        "           regex_fourtiesabove_delimiterbd, regex_fourtiesabove_born, regex_fourtiesabove_bornfull,\n",
        "           ] \n",
        "age_applier = PandasLFApplier(lfs=lfs_age)\n",
        "L_age = age_applier.apply(df=train_df)\n",
        "L_age_test = age_applier.apply(df = age_test_df)\n",
        "#Summary statistics for the LFs\n",
        "LFAnalysis(L=L_age, lfs=lfs_age).lf_summary()"
      ]
    },
    {
      "cell_type": "markdown",
      "metadata": {
        "id": "KY8Oyw9yk36C"
      },
      "source": [
        "## Location labelling\n",
        "Location labeling can be done based on the description or the optional location field of the Twitter profile. Various lists were used to write keyword search labeling functions. "
      ]
    },
    {
      "cell_type": "code",
      "execution_count": null,
      "metadata": {
        "id": "0R-sGitE3rap"
      },
      "outputs": [],
      "source": [
        "ANTWERPEN = 0\n",
        "LIMBURG = 1\n",
        "OOST_VLAANDEREN = 2\n",
        "WEST_VLAANDEREN = 3\n",
        "VLAAMS_BRABANT = 4\n",
        "BRUSSEL_WALLONIE = 5 \n",
        "OTHER = 6   \n",
        "ABSTAIN = -1"
      ]
    },
    {
      "cell_type": "markdown",
      "metadata": {
        "id": "7JGscOWl5Bpv"
      },
      "source": [
        "### Based on location field"
      ]
    },
    {
      "cell_type": "code",
      "execution_count": null,
      "metadata": {
        "id": "RCMdKyiDk36C"
      },
      "outputs": [],
      "source": [
        "city_names = pd.read_csv('Data_Labelling/Location/city_names.csv', sep = ',')"
      ]
    },
    {
      "cell_type": "code",
      "execution_count": null,
      "metadata": {
        "id": "BcyghUW2Gvcq"
      },
      "outputs": [],
      "source": [
        "Antwerpen = set(city_names[\"Antwerpen\"].str.lower())\n",
        "Limburg = set(city_names[\"Limburg\"].str.lower())\n",
        "Oost_Vlaanderen = set(city_names[\"Oost_Vlaanderen\"].str.lower())\n",
        "West_Vlaanderen = set(city_names[\"West_Vlaanderen\"].str.lower())\n",
        "Vlaams_Brabant = set(city_names[\"Vlaams_Brabant\"].str.lower())\n",
        "Brussel = set(city_names[\"Brussel\"].str.lower())\n",
        "Wallonie = set(city_names[\"Wallonie\"].str.lower())\n",
        "Nederland = set(city_names[\"Nederland\"].str.lower())\n",
        "Other = set(city_names[\"Other\"].str.lower())\n",
        "Belgie = Antwerpen.union(Limburg, Brussel, Oost_Vlaanderen, West_Vlaanderen, Vlaams_Brabant, Wallonie)"
      ]
    },
    {
      "cell_type": "code",
      "execution_count": null,
      "metadata": {
        "id": "ocYM1jWiG3OI"
      },
      "outputs": [],
      "source": [
        "# This lambda function checks if at least one element of set b is also in set a\n",
        "any_in = lambda a, b : any(i in b for i in a)"
      ]
    },
    {
      "cell_type": "code",
      "execution_count": null,
      "metadata": {
        "id": "1pj7PAN7DBK9"
      },
      "outputs": [],
      "source": [
        "#labelling functions\n",
        "@labeling_function()\n",
        "def antwerpen_profile(row):\n",
        "    return ANTWERPEN if any_in(Antwerpen, re.split(regexPattern, row['location_profile'].lower())) else ABSTAIN\n",
        "\n",
        "@labeling_function()\n",
        "def limburg_profile(row):\n",
        "    return LIMBURG if any_in(Limburg, re.split(regexPattern, row['location_profile'].lower())) else ABSTAIN\n",
        "\n",
        "@labeling_function()\n",
        "def oost_vlaanderen_profile(row):\n",
        "    return OOST_VLAANDEREN if any_in(Oost_Vlaanderen, re.split(regexPattern, row['location_profile'].lower())) else ABSTAIN\n",
        "\n",
        "@labeling_function()\n",
        "def west_vlaanderen_profile(row):\n",
        "    return WEST_VLAANDEREN if any_in(West_Vlaanderen, re.split(regexPattern, row['location_profile'].lower())) else ABSTAIN\n",
        "\n",
        "@labeling_function()\n",
        "def vlaams_brabant_profile(row):\n",
        "    return VLAAMS_BRABANT if any_in(Vlaams_Brabant, re.split(regexPattern, row['location_profile'].lower())) else ABSTAIN\n",
        "\n",
        "@labeling_function()\n",
        "def brussel_profile(row):\n",
        "    return BRUSSEL_WALLONIE if any_in(Brussel, re.split(regexPattern, row['location_profile'].lower())) else ABSTAIN\n",
        "\n",
        "@labeling_function()\n",
        "def wallonie_profile(row):\n",
        "    return BRUSSEL_WALLONIE if any_in(Wallonie, re.split(regexPattern, row['location_profile'].lower())) else ABSTAIN\n",
        "\n",
        "@labeling_function()\n",
        "def nl_profile(row):\n",
        "    return OTHER if any_in(Nederland, re.split(regexPattern, row['location_profile'].lower())) else ABSTAIN\n",
        "\n",
        "@labeling_function()\n",
        "def other_profile(row):\n",
        "    return OTHER if any_in(Other, re.split(regexPattern, row['location_profile'].lower())) else ABSTAIN"
      ]
    },
    {
      "cell_type": "markdown",
      "metadata": {
        "id": "niuGqaBP7o4_"
      },
      "source": [
        "### Based on description\n",
        "All labeling functions use keyword searches "
      ]
    },
    {
      "cell_type": "markdown",
      "metadata": {
        "id": "9vW3N8Vq8Sa_"
      },
      "source": [
        "#### Zipcodes"
      ]
    },
    {
      "cell_type": "code",
      "execution_count": null,
      "metadata": {
        "id": "lKvGkrv78a6x"
      },
      "outputs": [],
      "source": [
        "#Load zipcodes\n",
        "zipcodes = pd.read_csv(\"Data_Labelling/Location/zipcodes.csv\",dtype=str)"
      ]
    },
    {
      "cell_type": "code",
      "execution_count": null,
      "metadata": {
        "id": "JH0UtPPk-krR"
      },
      "outputs": [],
      "source": [
        "def make_keyword_lf_zip(keywords, label = ABSTAIN):\n",
        "  return LabelingFunction(\n",
        "      name = f\"zip_{label}\",\n",
        "      f = keyword_lookup,\n",
        "      resources = dict(keywords = keywords, label = label),\n",
        "  )"
      ]
    },
    {
      "cell_type": "code",
      "execution_count": null,
      "metadata": {
        "id": "NZxs2yhO82dw"
      },
      "outputs": [],
      "source": [
        "#make keyword LFs \n",
        "antwerpen_zip = make_keyword_lf_zip(keywords = zipcodes['Antwerpen'].dropna(), label = ANTWERPEN)\n",
        "limburg_zip = make_keyword_lf_zip(keywords = zipcodes['Limburg'].dropna(), label = LIMBURG)\n",
        "oostvl_zip = make_keyword_lf_zip(keywords = zipcodes['Oost_Vlaanderen'].dropna(), label = OOST_VLAANDEREN)\n",
        "westvl_zip = make_keyword_lf_zip(keywords = zipcodes['West_Vlaanderen'].dropna(), label = WEST_VLAANDEREN)\n",
        "vlbrabant_zip = make_keyword_lf_zip(keywords = zipcodes['Vlaams_Brabant'].dropna(), label = VLAAMS_BRABANT)\n",
        "brussel_wallonie_zip = make_keyword_lf_zip(keywords = zipcodes['Brussel'].dropna() + zipcodes['Wallonie'].dropna(), label = BRUSSEL_WALLONIE)\n",
        "# wallonie_zip = make_keyword_lf_zip(keywords = , label = BRUSSEL_WALLONIE)\n",
        "nederland_zip = make_keyword_lf_zip(keywords = zipcodes['Nederland'].dropna(), label = OTHER)\n",
        "#other_zip = make_keyword_lf_zip(keywords = zipcodes['Other'].dropna(), label = OTHER)"
      ]
    },
    {
      "cell_type": "markdown",
      "metadata": {
        "id": "MFvo-ta28ZgG"
      },
      "source": [
        "#### Towns, cities and other countries\n",
        "List of all towns per province, supplemented by a few self-written keywords"
      ]
    },
    {
      "cell_type": "code",
      "execution_count": null,
      "metadata": {
        "id": "c7yFMMCxIqEw"
      },
      "outputs": [],
      "source": [
        "#make keyword LFs for keyword lookup in description\n",
        "antwerpen_cities = make_keyword_lf(keywords = city_names['Antwerpen'].dropna(), label = ANTWERPEN)\n",
        "limburg_cities = make_keyword_lf(keywords = city_names['Limburg'].dropna(), label = LIMBURG)\n",
        "oostvl_cities = make_keyword_lf(keywords = city_names['Oost_Vlaanderen'].dropna(), label = OOST_VLAANDEREN)\n",
        "westvl_cities = make_keyword_lf(keywords = city_names['West_Vlaanderen'].dropna(), label = WEST_VLAANDEREN)\n",
        "vlbrabant_cities = make_keyword_lf(keywords = city_names['Vlaams_Brabant'].dropna(), label = VLAAMS_BRABANT)\n",
        "brussel_wallonie_cities = make_keyword_lf(keywords = city_names['Brussel'].dropna() + city_names['Wallonie'].dropna(), label = BRUSSEL_WALLONIE)\n",
        "# wallonie_cities = make_keyword_lf(keywords = city_names['Wallonie'].dropna(), label = BRUSSEL_WALLONIE)\n",
        "other_cities = make_keyword_lf(keywords = city_names['Nederland'].dropna() + city_names['Other'].dropna(), label = OTHER)\n",
        "# other_cities = make_keyword_lf(keywords = city_names['Other'].dropna(), label = OTHER)"
      ]
    },
    {
      "cell_type": "markdown",
      "metadata": {
        "id": "Z8kyNvLeJ365"
      },
      "source": [
        "### All labeling functions: predict labels using snorkel LFs for Location"
      ]
    },
    {
      "cell_type": "code",
      "execution_count": null,
      "metadata": {
        "colab": {
          "base_uri": "https://localhost:8080/",
          "height": 368
        },
        "id": "H60ItfprKRuT",
        "outputId": "aba317c7-b43f-44aa-f9c9-fe11530a18b1"
      },
      "outputs": [
        {
          "name": "stderr",
          "output_type": "stream",
          "text": [
            "100%|██████████| 27424/27424 [00:14<00:00, 1910.46it/s]\n",
            "100%|██████████| 413/413 [00:00<00:00, 2447.75it/s]\n"
          ]
        },
        {
          "data": {
            "text/html": [
              "\n",
              "  <div id=\"df-81166700-e441-410e-938f-126b8039b94c\">\n",
              "    <div class=\"colab-df-container\">\n",
              "      <div>\n",
              "<style scoped>\n",
              "    .dataframe tbody tr th:only-of-type {\n",
              "        vertical-align: middle;\n",
              "    }\n",
              "\n",
              "    .dataframe tbody tr th {\n",
              "        vertical-align: top;\n",
              "    }\n",
              "\n",
              "    .dataframe thead th {\n",
              "        text-align: right;\n",
              "    }\n",
              "</style>\n",
              "<table border=\"1\" class=\"dataframe\">\n",
              "  <thead>\n",
              "    <tr style=\"text-align: right;\">\n",
              "      <th></th>\n",
              "      <th>j</th>\n",
              "      <th>Polarity</th>\n",
              "      <th>Coverage</th>\n",
              "      <th>Overlaps</th>\n",
              "      <th>Conflicts</th>\n",
              "    </tr>\n",
              "  </thead>\n",
              "  <tbody>\n",
              "    <tr>\n",
              "      <th>antwerpen_profile</th>\n",
              "      <td>0</td>\n",
              "      <td>[0]</td>\n",
              "      <td>0.082045</td>\n",
              "      <td>0.006235</td>\n",
              "      <td>0.006235</td>\n",
              "    </tr>\n",
              "    <tr>\n",
              "      <th>limburg_profile</th>\n",
              "      <td>1</td>\n",
              "      <td>[1]</td>\n",
              "      <td>0.033474</td>\n",
              "      <td>0.004923</td>\n",
              "      <td>0.004923</td>\n",
              "    </tr>\n",
              "    <tr>\n",
              "      <th>oost_vlaanderen_profile</th>\n",
              "      <td>2</td>\n",
              "      <td>[2]</td>\n",
              "      <td>0.060349</td>\n",
              "      <td>0.006637</td>\n",
              "      <td>0.006637</td>\n",
              "    </tr>\n",
              "    <tr>\n",
              "      <th>west_vlaanderen_profile</th>\n",
              "      <td>3</td>\n",
              "      <td>[3]</td>\n",
              "      <td>0.063339</td>\n",
              "      <td>0.002151</td>\n",
              "      <td>0.002151</td>\n",
              "    </tr>\n",
              "    <tr>\n",
              "      <th>vlaams_brabant_profile</th>\n",
              "      <td>4</td>\n",
              "      <td>[4]</td>\n",
              "      <td>0.039746</td>\n",
              "      <td>0.006782</td>\n",
              "      <td>0.006782</td>\n",
              "    </tr>\n",
              "    <tr>\n",
              "      <th>brussel_profile</th>\n",
              "      <td>5</td>\n",
              "      <td>[5]</td>\n",
              "      <td>0.055426</td>\n",
              "      <td>0.002042</td>\n",
              "      <td>0.001969</td>\n",
              "    </tr>\n",
              "    <tr>\n",
              "      <th>wallonie_profile</th>\n",
              "      <td>6</td>\n",
              "      <td>[5]</td>\n",
              "      <td>0.010502</td>\n",
              "      <td>0.000474</td>\n",
              "      <td>0.000401</td>\n",
              "    </tr>\n",
              "    <tr>\n",
              "      <th>nl_profile</th>\n",
              "      <td>7</td>\n",
              "      <td>[6]</td>\n",
              "      <td>0.103741</td>\n",
              "      <td>0.004850</td>\n",
              "      <td>0.004595</td>\n",
              "    </tr>\n",
              "    <tr>\n",
              "      <th>other_profile</th>\n",
              "      <td>8</td>\n",
              "      <td>[6]</td>\n",
              "      <td>0.027859</td>\n",
              "      <td>0.001714</td>\n",
              "      <td>0.001459</td>\n",
              "    </tr>\n",
              "  </tbody>\n",
              "</table>\n",
              "</div>\n",
              "      <button class=\"colab-df-convert\" onclick=\"convertToInteractive('df-81166700-e441-410e-938f-126b8039b94c')\"\n",
              "              title=\"Convert this dataframe to an interactive table.\"\n",
              "              style=\"display:none;\">\n",
              "        \n",
              "  <svg xmlns=\"http://www.w3.org/2000/svg\" height=\"24px\"viewBox=\"0 0 24 24\"\n",
              "       width=\"24px\">\n",
              "    <path d=\"M0 0h24v24H0V0z\" fill=\"none\"/>\n",
              "    <path d=\"M18.56 5.44l.94 2.06.94-2.06 2.06-.94-2.06-.94-.94-2.06-.94 2.06-2.06.94zm-11 1L8.5 8.5l.94-2.06 2.06-.94-2.06-.94L8.5 2.5l-.94 2.06-2.06.94zm10 10l.94 2.06.94-2.06 2.06-.94-2.06-.94-.94-2.06-.94 2.06-2.06.94z\"/><path d=\"M17.41 7.96l-1.37-1.37c-.4-.4-.92-.59-1.43-.59-.52 0-1.04.2-1.43.59L10.3 9.45l-7.72 7.72c-.78.78-.78 2.05 0 2.83L4 21.41c.39.39.9.59 1.41.59.51 0 1.02-.2 1.41-.59l7.78-7.78 2.81-2.81c.8-.78.8-2.07 0-2.86zM5.41 20L4 18.59l7.72-7.72 1.47 1.35L5.41 20z\"/>\n",
              "  </svg>\n",
              "      </button>\n",
              "      \n",
              "  <style>\n",
              "    .colab-df-container {\n",
              "      display:flex;\n",
              "      flex-wrap:wrap;\n",
              "      gap: 12px;\n",
              "    }\n",
              "\n",
              "    .colab-df-convert {\n",
              "      background-color: #E8F0FE;\n",
              "      border: none;\n",
              "      border-radius: 50%;\n",
              "      cursor: pointer;\n",
              "      display: none;\n",
              "      fill: #1967D2;\n",
              "      height: 32px;\n",
              "      padding: 0 0 0 0;\n",
              "      width: 32px;\n",
              "    }\n",
              "\n",
              "    .colab-df-convert:hover {\n",
              "      background-color: #E2EBFA;\n",
              "      box-shadow: 0px 1px 2px rgba(60, 64, 67, 0.3), 0px 1px 3px 1px rgba(60, 64, 67, 0.15);\n",
              "      fill: #174EA6;\n",
              "    }\n",
              "\n",
              "    [theme=dark] .colab-df-convert {\n",
              "      background-color: #3B4455;\n",
              "      fill: #D2E3FC;\n",
              "    }\n",
              "\n",
              "    [theme=dark] .colab-df-convert:hover {\n",
              "      background-color: #434B5C;\n",
              "      box-shadow: 0px 1px 3px 1px rgba(0, 0, 0, 0.15);\n",
              "      filter: drop-shadow(0px 1px 2px rgba(0, 0, 0, 0.3));\n",
              "      fill: #FFFFFF;\n",
              "    }\n",
              "  </style>\n",
              "\n",
              "      <script>\n",
              "        const buttonEl =\n",
              "          document.querySelector('#df-81166700-e441-410e-938f-126b8039b94c button.colab-df-convert');\n",
              "        buttonEl.style.display =\n",
              "          google.colab.kernel.accessAllowed ? 'block' : 'none';\n",
              "\n",
              "        async function convertToInteractive(key) {\n",
              "          const element = document.querySelector('#df-81166700-e441-410e-938f-126b8039b94c');\n",
              "          const dataTable =\n",
              "            await google.colab.kernel.invokeFunction('convertToInteractive',\n",
              "                                                     [key], {});\n",
              "          if (!dataTable) return;\n",
              "\n",
              "          const docLinkHtml = 'Like what you see? Visit the ' +\n",
              "            '<a target=\"_blank\" href=https://colab.research.google.com/notebooks/data_table.ipynb>data table notebook</a>'\n",
              "            + ' to learn more about interactive tables.';\n",
              "          element.innerHTML = '';\n",
              "          dataTable['output_type'] = 'display_data';\n",
              "          await google.colab.output.renderOutput(dataTable, element);\n",
              "          const docLink = document.createElement('div');\n",
              "          docLink.innerHTML = docLinkHtml;\n",
              "          element.appendChild(docLink);\n",
              "        }\n",
              "      </script>\n",
              "    </div>\n",
              "  </div>\n",
              "  "
            ],
            "text/plain": [
              "                         j Polarity  Coverage  Overlaps  Conflicts\n",
              "antwerpen_profile        0      [0]  0.082045  0.006235   0.006235\n",
              "limburg_profile          1      [1]  0.033474  0.004923   0.004923\n",
              "oost_vlaanderen_profile  2      [2]  0.060349  0.006637   0.006637\n",
              "west_vlaanderen_profile  3      [3]  0.063339  0.002151   0.002151\n",
              "vlaams_brabant_profile   4      [4]  0.039746  0.006782   0.006782\n",
              "brussel_profile          5      [5]  0.055426  0.002042   0.001969\n",
              "wallonie_profile         6      [5]  0.010502  0.000474   0.000401\n",
              "nl_profile               7      [6]  0.103741  0.004850   0.004595\n",
              "other_profile            8      [6]  0.027859  0.001714   0.001459"
            ]
          },
          "execution_count": 18,
          "metadata": {},
          "output_type": "execute_result"
        }
      ],
      "source": [
        "lfs_location = [antwerpen_profile, limburg_profile, oost_vlaanderen_profile,west_vlaanderen_profile, vlaams_brabant_profile,brussel_profile, wallonie_profile,nl_profile,other_profile,\n",
        "                antwerpen_zip, limburg_zip, oostvl_zip, westvl_zip, vlbrabant_zip, brussel_wallonie_zip,  nederland_zip,\n",
        "                antwerpen_cities, limburg_cities, oostvl_cities, westvl_cities, vlbrabant_cities, brussel_wallonie_cities, other_cities\n",
        "                ]\n",
        "\n",
        "location_applier = PandasLFApplier(lfs=lfs_location)\n",
        "L_location = location_applier.apply(df=train_df)\n",
        "L_location_test = location_applier.apply(df = location_test_df)\n",
        "\n",
        "#Summary statistics for the LFs\n",
        "LFAnalysis(L=L_location, lfs=lfs_location).lf_summary()"
      ]
    },
    {
      "cell_type": "markdown",
      "metadata": {
        "id": "-KLeowQh_CCn"
      },
      "source": [
        "# Final label predictions"
      ]
    },
    {
      "cell_type": "markdown",
      "metadata": {
        "id": "L6ZpKI_E_Pdp"
      },
      "source": [
        "## Gender\n"
      ]
    },
    {
      "cell_type": "markdown",
      "metadata": {
        "id": "3V0EIk_yqMKT"
      },
      "source": [
        "### MajorityVoter"
      ]
    },
    {
      "cell_type": "code",
      "execution_count": null,
      "metadata": {
        "id": "FlROAEWXqOlc"
      },
      "outputs": [],
      "source": [
        "majority_model_gender = MajorityLabelVoter()\n",
        "majority_predictions_gender = majority_model_gender.predict(L=L_gender) #On train set\n",
        "majority_model_gender_test = MajorityLabelVoter()\n",
        "majority_predictions_gender_test = majority_model_gender_test.predict(L=L_gender_test)  #On test set\n",
        "gender_test_df[\"predictions_majority\"] = majority_predictions_gender_test\n",
        "gender_test_df[\"predictions_majority\"] = gender_test_df[\"predictions_majority\"].map({1:\"Male\", 0:\"Female\", -1:\"Unknown\"})"
      ]
    },
    {
      "cell_type": "markdown",
      "metadata": {
        "id": "T4C3vxpeqHVc"
      },
      "source": [
        "### LabelModel"
      ]
    },
    {
      "cell_type": "code",
      "execution_count": null,
      "metadata": {
        "colab": {
          "base_uri": "https://localhost:8080/"
        },
        "id": "W-Yw0j1q_nxp",
        "outputId": "634aaa10-55f1-4977-cdd2-5e4bbdc1433f"
      },
      "outputs": [
        {
          "name": "stderr",
          "output_type": "stream",
          "text": [
            "INFO:root:Computing O...\n",
            "INFO:root:Estimating \\mu...\n",
            "  0%|          | 0/500 [00:00<?, ?epoch/s]INFO:root:[0 epochs]: TRAIN:[loss=0.348]\n",
            "  0%|          | 1/500 [00:00<01:32,  5.42epoch/s]INFO:root:[100 epochs]: TRAIN:[loss=0.005]\n",
            " 23%|██▎       | 115/500 [00:00<00:00, 499.36epoch/s]INFO:root:[200 epochs]: TRAIN:[loss=0.005]\n",
            " 46%|████▌     | 229/500 [00:00<00:00, 744.34epoch/s]INFO:root:[300 epochs]: TRAIN:[loss=0.005]\n",
            " 69%|██████▊   | 343/500 [00:00<00:00, 868.81epoch/s]INFO:root:[400 epochs]: TRAIN:[loss=0.005]\n",
            "100%|██████████| 500/500 [00:00<00:00, 644.05epoch/s]\n",
            "INFO:root:Finished Training\n"
          ]
        }
      ],
      "source": [
        "label_model_gender = LabelModel(cardinality=2, verbose=True)\n",
        "label_model_gender.fit(L_train=L_gender, n_epochs=500, log_freq=100, seed=123) "
      ]
    },
    {
      "cell_type": "code",
      "execution_count": null,
      "metadata": {
        "id": "wdZIR_eLAhiF"
      },
      "outputs": [],
      "source": [
        "#Labels for training data \n",
        "gender_weak_labels = label_model_gender.predict(L=L_gender)\n",
        "probs_train_gender = label_model_gender.predict_proba(L=L_gender)"
      ]
    },
    {
      "cell_type": "code",
      "execution_count": null,
      "metadata": {
        "id": "B1an8p0IBDdh"
      },
      "outputs": [],
      "source": [
        "train_df[\"gender_label\"] = gender_weak_labels\n",
        "train_df[\"gender_label\"] = train_df[\"gender_label\"].map({1:\"Male\", 0:\"Female\", -1:\"Unknown\"})"
      ]
    },
    {
      "cell_type": "code",
      "execution_count": null,
      "metadata": {
        "colab": {
          "base_uri": "https://localhost:8080/",
          "height": 331
        },
        "id": "FJCryhhMR8wz",
        "outputId": "6ac9800c-2544-485a-8c8b-26c48861565a"
      },
      "outputs": [
        {
          "data": {
            "image/png": "[encoded data removed]",
            "text/plain": [
              "<Figure size 432x288 with 1 Axes>"
            ]
          },
          "metadata": {
            "needs_background": "light"
          },
          "output_type": "display_data"
        }
      ],
      "source": [
        "sns.countplot(x = train_df[\"gender_label\"], order = train_df[\"gender_label\"].value_counts().index)\n",
        "plt.xticks(rotation = 60)\n",
        "plt.xlabel(\" \")\n",
        "plt.title('Gender noisy labels');"
      ]
    },
    {
      "cell_type": "code",
      "execution_count": null,
      "metadata": {
        "id": "yYoZf7uPl50m"
      },
      "outputs": [],
      "source": [
        "#Labels for test data\n",
        "gender_weak_labels_test = label_model_gender.predict(L=L_gender_test)\n",
        "probs_test_gender = label_model_gender.predict_proba(L=L_gender_test)"
      ]
    },
    {
      "cell_type": "code",
      "execution_count": null,
      "metadata": {
        "id": "xfDu0ivinSdP"
      },
      "outputs": [],
      "source": [
        "gender_test_df[\"predictions\"] = gender_weak_labels_test\n",
        "gender_test_df[\"predictions\"] = gender_test_df[\"predictions\"].map({1:\"Male\", 0:\"Female\", -1:\"Unknown\"})\n",
        "gender_test_df[\"predictions\"].value_counts()"
      ]
    },
    {
      "cell_type": "markdown",
      "metadata": {
        "id": "KrrqWd3J_oFY"
      },
      "source": [
        "## Age"
      ]
    },
    {
      "cell_type": "markdown",
      "metadata": {
        "id": "QpvuRjrb5p8D"
      },
      "source": [
        "### Majority Model"
      ]
    },
    {
      "cell_type": "code",
      "execution_count": null,
      "metadata": {
        "id": "oYjB8FzB5rr8"
      },
      "outputs": [],
      "source": [
        "majority_model_age = MajorityLabelVoter(cardinality = 5)\n",
        "majority_predictions_age = majority_model_age.predict(L=L_age) #On train set\n",
        "majority_model_age_test = MajorityLabelVoter(cardinality = 5)\n",
        "majority_predictions_age_test = majority_model_age_test.predict(L=L_age_test)  #On test set\n",
        "age_test_df[\"predictions_majority\"] = majority_predictions_age_test\n",
        "age_test_df[\"predictions_majority\"] = age_test_df[\"predictions_majority\"].map({4:\"40+\", 3:\"30-39\", 2:\"20-29\", 1: \"-18\", -1:\"Unknown\"})"
      ]
    },
    {
      "cell_type": "markdown",
      "metadata": {
        "id": "wCWfXCPw5sTE"
      },
      "source": [
        "### Label model"
      ]
    },
    {
      "cell_type": "code",
      "execution_count": null,
      "metadata": {
        "colab": {
          "base_uri": "https://localhost:8080/"
        },
        "id": "LGx6Y_Vd_qBy",
        "outputId": "587f1dc6-3d79-4781-e593-fa88c388ebc5"
      },
      "outputs": [
        {
          "name": "stderr",
          "output_type": "stream",
          "text": [
            "INFO:root:Computing O...\n",
            "INFO:root:Estimating \\mu...\n",
            "  0%|          | 0/500 [00:00<?, ?epoch/s]INFO:root:[0 epochs]: TRAIN:[loss=0.000]\n",
            " 17%|█▋        | 84/500 [00:00<00:00, 438.60epoch/s]INFO:root:[100 epochs]: TRAIN:[loss=0.000]\n",
            " 38%|███▊      | 192/500 [00:00<00:00, 505.85epoch/s]INFO:root:[200 epochs]: TRAIN:[loss=0.000]\n",
            " 60%|█████▉    | 298/500 [00:00<00:00, 515.23epoch/s]INFO:root:[300 epochs]: TRAIN:[loss=0.000]\n",
            " 70%|███████   | 351/500 [00:00<00:00, 519.30epoch/s]INFO:root:[400 epochs]: TRAIN:[loss=0.000]\n",
            "100%|██████████| 500/500 [00:00<00:00, 502.36epoch/s]\n",
            "INFO:root:Finished Training\n"
          ]
        }
      ],
      "source": [
        "label_model_age = LabelModel(cardinality=5, verbose=True)\n",
        "label_model_age.fit(L_train=L_age, n_epochs=500, log_freq=100, seed=123)"
      ]
    },
    {
      "cell_type": "code",
      "execution_count": null,
      "metadata": {
        "id": "WBJ5K0ugAxSK"
      },
      "outputs": [],
      "source": [
        "age_weak_labels = label_model_age.predict(L=L_age)\n",
        "probs_train_age = label_model_age.predict_proba(L=L_age)"
      ]
    },
    {
      "cell_type": "code",
      "execution_count": null,
      "metadata": {
        "id": "F-_i2ThNoqbn"
      },
      "outputs": [],
      "source": [
        "age_weak_labels_test = label_model_age.predict(L=L_age_test)\n",
        "probs_test_age = label_model_age.predict_proba(L=L_age_test)"
      ]
    },
    {
      "cell_type": "code",
      "execution_count": null,
      "metadata": {
        "id": "VLZj17Gpoylx"
      },
      "outputs": [],
      "source": [
        "age_test_df[\"predictions\"] = age_weak_labels_test\n",
        "age_test_df[\"predictions\"] = age_test_df[\"predictions\"].map({4:\"40+\", 3:\"30-39\", 2:\"20-29\", 1: \"-18\", -1:\"Unknown\"})\n",
        "age_test_df[\"predictions\"].value_counts()"
      ]
    },
    {
      "cell_type": "code",
      "execution_count": null,
      "metadata": {
        "colab": {
          "base_uri": "https://localhost:8080/"
        },
        "id": "OKBsxqQeBIA4",
        "outputId": "5b9eedd6-7e4d-4598-9498-b980814de883"
      },
      "outputs": [
        {
          "data": {
            "text/plain": [
              "Unknown    26175\n",
              "20-29        887\n",
              "40+          191\n",
              "30-39        107\n",
              "-18           64\n",
              "Name: age_label, dtype: int64"
            ]
          },
          "execution_count": 116,
          "metadata": {},
          "output_type": "execute_result"
        }
      ],
      "source": [
        "train_df[\"age_label\"] = age_weak_labels\n",
        "train_df[\"age_label\"] = train_df[\"age_label\"].map({4:\"40+\", 3:\"30-39\", 2:\"20-29\", 1: \"-18\", -1:\"Unknown\"})\n",
        "train_df[\"age_label\"].value_counts()"
      ]
    },
    {
      "cell_type": "code",
      "execution_count": null,
      "metadata": {
        "colab": {
          "base_uri": "https://localhost:8080/",
          "height": 331
        },
        "id": "01jOT7zTR1_R",
        "outputId": "7b1c033a-74fb-4b43-8828-04baea4b8e89"
      },
      "outputs": [
        {
          "data": {
            "image/png": "[encoded data removed]",
            "text/plain": [
              "<Figure size 432x288 with 1 Axes>"
            ]
          },
          "metadata": {
            "needs_background": "light"
          },
          "output_type": "display_data"
        }
      ],
      "source": [
        "sns.countplot(x = train_df[\"age_label\"], order = train_df[\"age_label\"].value_counts().index)\n",
        "plt.xticks(rotation = 60)\n",
        "plt.xlabel(\" \")\n",
        "plt.title('Age noisy labels');"
      ]
    },
    {
      "cell_type": "markdown",
      "metadata": {
        "id": "zyOxKVeh_q79"
      },
      "source": [
        "## Location"
      ]
    },
    {
      "cell_type": "markdown",
      "metadata": {
        "id": "wBx3W6I-6w5m"
      },
      "source": [
        "### Majority model"
      ]
    },
    {
      "cell_type": "code",
      "execution_count": null,
      "metadata": {
        "id": "w8KgVqcm6yr3"
      },
      "outputs": [],
      "source": [
        "majority_model_location = MajorityLabelVoter(cardinality = 7)\n",
        "majority_predictions_location = majority_model_location.predict(L=L_location) \n",
        "majority_model_location_test = MajorityLabelVoter(cardinality = 7)\n",
        "majority_predictions_location_test = majority_model_location_test.predict(L=L_location_test) \n",
        "location_test_df[\"predictions_majority\"] = majority_predictions_location_test\n",
        "location_test_df[\"predictions_majority\"] = location_test_df[\"predictions_majority\"].map({0:\"Antwerpen\", 1:\"Limburg\", 2:\"Oost_Vlaanderen\",\n",
        "                                                                                         3:\"West_Vlaanderen\", 4:\"Vlaams_Brabant\", \n",
        "                                                                                         5:\"Brussel_Wallonie\", 6: \"Other\", -1:\"Unknown\"})\n",
        "location_test_df[\"predictions_majority\"].value_counts()"
      ]
    },
    {
      "cell_type": "markdown",
      "metadata": {
        "id": "I2RGz6Kf6qkR"
      },
      "source": [
        "### Label Model"
      ]
    },
    {
      "cell_type": "code",
      "execution_count": null,
      "metadata": {
        "colab": {
          "base_uri": "https://localhost:8080/"
        },
        "id": "6xM8nma4Ulz-",
        "outputId": "5452c63e-838b-47ff-8874-ec1946c26196"
      },
      "outputs": [
        {
          "name": "stderr",
          "output_type": "stream",
          "text": [
            "INFO:root:Computing O...\n",
            "INFO:root:Estimating \\mu...\n",
            "  0%|          | 0/500 [00:00<?, ?epoch/s]INFO:root:[0 epochs]: TRAIN:[loss=0.008]\n",
            "  0%|          | 1/500 [00:00<01:01,  8.07epoch/s]INFO:root:[100 epochs]: TRAIN:[loss=0.000]\n",
            " 30%|██▉       | 148/500 [00:00<00:00, 789.53epoch/s]INFO:root:[200 epochs]: TRAIN:[loss=0.000]\n",
            " 57%|█████▋    | 287/500 [00:00<00:00, 1046.81epoch/s]INFO:root:[300 epochs]: TRAIN:[loss=0.000]\n",
            "INFO:root:[400 epochs]: TRAIN:[loss=0.000]\n",
            "100%|██████████| 500/500 [00:00<00:00, 1038.84epoch/s]\n",
            "INFO:root:Finished Training\n"
          ]
        }
      ],
      "source": [
        "label_model_location = LabelModel(cardinality=7, verbose=True)\n",
        "label_model_location.fit(L_train=L_location, n_epochs=500, log_freq=100, seed=123)"
      ]
    },
    {
      "cell_type": "code",
      "execution_count": null,
      "metadata": {
        "id": "AgskgPPaVyK_"
      },
      "outputs": [],
      "source": [
        "location_weak_labels = label_model_location.predict(L=L_location)\n",
        "probs_train_location = label_model_location.predict_proba(L=L_location)"
      ]
    },
    {
      "cell_type": "code",
      "execution_count": null,
      "metadata": {
        "colab": {
          "base_uri": "https://localhost:8080/"
        },
        "id": "RQSpL_q4V8je",
        "outputId": "7dfafa27-94cf-4c94-f701-1f51663cce7c"
      },
      "outputs": [
        {
          "data": {
            "text/plain": [
              "Unknown             0.542262\n",
              "Other               0.125292\n",
              "Antwerpen           0.080149\n",
              "Brussel_Wallonie    0.064834\n",
              "West_Vlaanderen     0.061370\n",
              "Oost_Vlaanderen     0.058416\n",
              "Vlaams_Brabant      0.037340\n",
              "Limburg             0.030338\n",
              "Name: location_label, dtype: float64"
            ]
          },
          "execution_count": 21,
          "metadata": {},
          "output_type": "execute_result"
        }
      ],
      "source": [
        "train_df[\"location_label\"] = location_weak_labels\n",
        "train_df[\"location_label\"] = train_df[\"location_label\"].map({0:\"Antwerpen\", 1:\"Limburg\", 2:\"Oost_Vlaanderen\", 3:\"West_Vlaanderen\", \n",
        "                                                           4:\"Vlaams_Brabant\", 5:\"Brussel_Wallonie\", 6: \"Other\", -1:\"Unknown\"})"
      ]
    },
    {
      "cell_type": "code",
      "execution_count": null,
      "metadata": {
        "colab": {
          "base_uri": "https://localhost:8080/",
          "height": 366
        },
        "id": "Y4laskT6gewP",
        "outputId": "55c0ea10-e444-4879-a601-f0bce0ca0a9f"
      },
      "outputs": [
        {
          "data": {
            "image/png": "[encoded data removed]",
            "text/plain": [
              "<Figure size 432x288 with 1 Axes>"
            ]
          },
          "metadata": {
            "needs_background": "light"
          },
          "output_type": "display_data"
        }
      ],
      "source": [
        "sns.countplot(x = train_df[\"location_label\"], order = train_df[\"location_label\"].value_counts().index)\n",
        "plt.xticks(rotation = 60)\n",
        "plt.xlabel(\" \")\n",
        "plt.title('Location noisy labels');"
      ]
    },
    {
      "cell_type": "code",
      "execution_count": null,
      "metadata": {
        "id": "GCWjbVlphLRB"
      },
      "outputs": [],
      "source": [
        "#Labels for test data\n",
        "location_weak_labels_test = label_model_location.predict(L=L_location_test)\n",
        "probs_test_location = label_model_location.predict_proba(L=L_location_test)"
      ]
    },
    {
      "cell_type": "code",
      "execution_count": null,
      "metadata": {
        "id": "zTLbR3c7hjCh"
      },
      "outputs": [],
      "source": [
        "location_test_df[\"predictions\"] = location_weak_labels_test\n",
        "location_test_df[\"predictions\"] = location_test_df[\"predictions\"].map({0:\"Antwerpen\", 1:\"Limburg\", 2:\"Oost_Vlaanderen\", 3:\"West_Vlaanderen\", \n",
        "                                                           4:\"Vlaams_Brabant\", 5:\"Brussel_Wallonie\", 6: \"Other\", -1:\"Unknown\"})\n",
        "location_test_df[\"predictions\"].value_counts()"
      ]
    },
    {
      "cell_type": "markdown",
      "metadata": {
        "id": "e_wP3Ydcbqe7"
      },
      "source": [
        "# Evaluation of label models on test set"
      ]
    },
    {
      "cell_type": "markdown",
      "metadata": {
        "id": "5zC1hXwIw8Kh"
      },
      "source": [
        "### Gender"
      ]
    },
    {
      "cell_type": "code",
      "execution_count": null,
      "metadata": {
        "colab": {
          "base_uri": "https://localhost:8080/"
        },
        "id": "v83fJJCFOZdu",
        "outputId": "600fb609-c40e-40c5-d168-8b21d80abb3d"
      },
      "outputs": [
        {
          "name": "stdout",
          "output_type": "stream",
          "text": [
            "Train set coverage : 0.8149431155192532\n",
            "Test set coverage : 0.8752556237218814\n"
          ]
        }
      ],
      "source": [
        "#Coverage of the gender LFs\n",
        "print(\"Train set coverage : %s\"%LFAnalysis(L=L_gender, lfs=lfs_gender).label_coverage())\n",
        "print(\"Test set coverage : %s\"%LFAnalysis(L=L_gender_test, lfs=lfs_gender).label_coverage())"
      ]
    },
    {
      "cell_type": "code",
      "execution_count": null,
      "metadata": {
        "colab": {
          "base_uri": "https://localhost:8080/"
        },
        "id": "SBYV_x_i32Hd",
        "outputId": "c8b3402d-d005-48aa-dc53-58b30d47c940"
      },
      "outputs": [
        {
          "name": "stdout",
          "output_type": "stream",
          "text": [
            "Accuracy score majority model : 0.8220858895705522\n",
            "Macro F1 score majority model : 0.5821120689655173\n",
            "predictions_majority   Female  Male  Unknown\n",
            "gender_label_majority                       \n",
            "Female                    108     9       35\n",
            "Male                        1   294       42\n",
            "Accuracy score label model : 0.8404907975460123\n",
            "Macro F1 score label model : 0.5886792032192262\n",
            "predictions            Female  Male  Unknown\n",
            "gender_label_majority                       \n",
            "Female                    120     6       26\n",
            "Male                       11   291       35\n"
          ]
        }
      ],
      "source": [
        "#Evaluating on the full test set (counting the unknowns as error)\n",
        "\n",
        "print(\"Accuracy score majority model : %s\"%accuracy_score(target_gender, gender_test_df[\"predictions_majority\"]))\n",
        "print(\"Macro F1 score majority model : %s\"%f1_score(target_gender, gender_test_df[\"predictions_majority\"], average = 'macro'))\n",
        "print(pd.crosstab(target_gender, gender_test_df[\"predictions_majority\"]))\n",
        "print(\"Accuracy score label model : %s\"%accuracy_score(target_gender, gender_test_df[\"predictions\"]))\n",
        "print(\"Macro F1 score label model : %s\"%f1_score(target_gender, gender_test_df[\"predictions\"], average = 'macro'))\n",
        "print(pd.crosstab(target_gender, gender_test_df[\"predictions\"]))"
      ]
    },
    {
      "cell_type": "markdown",
      "metadata": {
        "id": "smWqfO4I2doj"
      },
      "source": [
        "## Age"
      ]
    },
    {
      "cell_type": "code",
      "execution_count": null,
      "metadata": {
        "id": "0QSqOVf6FRcs"
      },
      "outputs": [],
      "source": [
        "target_age = target_age.apply(lambda row : '20-29' if row == '19-29' else row)"
      ]
    },
    {
      "cell_type": "code",
      "execution_count": null,
      "metadata": {
        "colab": {
          "base_uri": "https://localhost:8080/"
        },
        "id": "xcZwEV_EOmWb",
        "outputId": "7c9b4eba-ddbd-48ce-bca8-25bd9de2c9d2"
      },
      "outputs": [
        {
          "name": "stdout",
          "output_type": "stream",
          "text": [
            "Train set coverage : 0.045544049008168025\n",
            "Test set coverage : 0.09116022099447514\n"
          ]
        }
      ],
      "source": [
        "#Coverage of the gender LFs\n",
        "print(\"Train set coverage : %s\"%LFAnalysis(L=L_age, lfs=lfs_age).label_coverage())\n",
        "print(\"Test set coverage : %s\"%LFAnalysis(L=L_age_test, lfs=lfs_age).label_coverage())"
      ]
    },
    {
      "cell_type": "code",
      "execution_count": null,
      "metadata": {
        "id": "yHXeo5exIVK_"
      },
      "outputs": [],
      "source": [
        "rank_mapping = {\"40+\":4, \"30-39\":3, \"20-29\":2, \"-18\":1}"
      ]
    },
    {
      "cell_type": "code",
      "execution_count": null,
      "metadata": {
        "colab": {
          "base_uri": "https://localhost:8080/"
        },
        "id": "8CGIqfLeEBGo",
        "outputId": "a31d3330-1984-4848-e0bc-ee15cee50fe7"
      },
      "outputs": [
        {
          "name": "stdout",
          "output_type": "stream",
          "text": [
            "Accuracy score majority model : 0.08011049723756906\n",
            "Macro F1 score majority model : 0.161582177266246\n",
            "predictions_majority  -18  20-29  30-39  40+  Unknown\n",
            "age_label_majority                                   \n",
            "-18                     1      0      0    0        3\n",
            "20-29                   1     22      0    0       84\n",
            "30-39                   0      0      4    0       59\n",
            "40+                     0      2      1    2      183\n",
            "Accuracy score label model : 0.08011049723756906\n",
            "Macro F1 score label model : 0.161582177266246\n",
            "predictions         -18  20-29  30-39  40+  Unknown\n",
            "age_label_majority                                 \n",
            "-18                   1      0      0    0        3\n",
            "20-29                 1     22      0    0       84\n",
            "30-39                 0      0      4    0       59\n",
            "40+                   0      2      1    2      183\n"
          ]
        }
      ],
      "source": [
        "#Evaluating on the full test set (counting the unknowns as error)\n",
        "#Same score for majority vote and generative (not surprising given the small coverage)\n",
        "print(\"Accuracy score majority model : %s\"%accuracy_score(target_age, age_test_df[\"predictions_majority\"]))\n",
        "print(\"Macro F1 score majority model : %s\"%f1_score(target_age, age_test_df[\"predictions_majority\"], average = 'macro'))\n",
        "print(pd.crosstab(target_age, age_test_df[\"predictions_majority\"]))\n",
        "print(\"Accuracy score label model : %s\"%accuracy_score(target_age, age_test_df[\"predictions\"]))\n",
        "print(\"Macro F1 score label model : %s\"%f1_score(target_age, age_test_df[\"predictions\"], average = 'macro'))\n",
        "print(pd.crosstab(target_age, age_test_df[\"predictions\"]))"
      ]
    },
    {
      "cell_type": "markdown",
      "metadata": {
        "id": "ZW07nCgB5zMh"
      },
      "source": [
        "## Location\n"
      ]
    },
    {
      "cell_type": "code",
      "execution_count": null,
      "metadata": {
        "id": "F99LdzqpFoXS"
      },
      "outputs": [],
      "source": [
        "target_location = target_location.apply(lambda row : 'Brussel_Wallonie' if row in ['Brussel','Wallonië']\n",
        "                                        else 'Vlaams_Brabant' if row == 'Vlaams-Brabant'\n",
        "                                        else 'Oost_Vlaanderen' if row == 'Oost-Vlaanderen'\n",
        "                                        else 'West_Vlaanderen' if row == 'West-Vlaanderen'\n",
        "                                        else 'Other' if row == 'Nederland'\n",
        "                                        else row)"
      ]
    },
    {
      "cell_type": "code",
      "execution_count": null,
      "metadata": {
        "colab": {
          "base_uri": "https://localhost:8080/"
        },
        "id": "umSpoiB4FrIM",
        "outputId": "35945b50-6668-4d8a-e040-6e20dad252cf"
      },
      "outputs": [
        {
          "name": "stdout",
          "output_type": "stream",
          "text": [
            "Train set coverage : 0.457737747957993\n",
            "Test set coverage : 0.5278450363196125\n"
          ]
        }
      ],
      "source": [
        "#Coverage of the gender LFs\n",
        "print(\"Train set coverage : %s\"%LFAnalysis(L=L_location, lfs=lfs_location).label_coverage())\n",
        "print(\"Test set coverage : %s\"%LFAnalysis(L=L_location_test, lfs=lfs_location).label_coverage())"
      ]
    },
    {
      "cell_type": "code",
      "execution_count": null,
      "metadata": {
        "colab": {
          "base_uri": "https://localhost:8080/"
        },
        "id": "ZgceJgEQGHV7",
        "outputId": "4f3c7dd3-06d0-4e15-fe41-b032b8df08ba"
      },
      "outputs": [
        {
          "name": "stdout",
          "output_type": "stream",
          "text": [
            "Accuracy score majority model : 0.5036319612590799\n",
            "Macro F1 score majority model : 0.609153805096392\n",
            "predictions_majority     Antwerpen  Brussel_Wallonie  Limburg  \\\n",
            "location_label_majority                                         \n",
            "Antwerpen                       34                 1        0   \n",
            "Brussel_Wallonie                 0                22        1   \n",
            "Limburg                          0                 0       13   \n",
            "Oost_Vlaanderen                  0                 0        0   \n",
            "Other                            0                 0        0   \n",
            "Vlaams_Brabant                   0                 0        0   \n",
            "West_Vlaanderen                  0                 0        0   \n",
            "\n",
            "predictions_majority     Oost_Vlaanderen  Other  Unknown  Vlaams_Brabant  \\\n",
            "location_label_majority                                                    \n",
            "Antwerpen                              1      0       38               0   \n",
            "Brussel_Wallonie                       0      0       11               0   \n",
            "Limburg                                0      0       10               0   \n",
            "Oost_Vlaanderen                       31      0       28               0   \n",
            "Other                                  0     58       83               0   \n",
            "Vlaams_Brabant                         0      0       13              23   \n",
            "West_Vlaanderen                        0      0       17               0   \n",
            "\n",
            "predictions_majority     West_Vlaanderen  \n",
            "location_label_majority                   \n",
            "Antwerpen                              0  \n",
            "Brussel_Wallonie                       0  \n",
            "Limburg                                0  \n",
            "Oost_Vlaanderen                        2  \n",
            "Other                                  0  \n",
            "Vlaams_Brabant                         0  \n",
            "West_Vlaanderen                       27  \n",
            "Accuracy score label model : 0.5108958837772397\n",
            "Macro F1 score label model : 0.6119215978274617\n",
            "predictions              Antwerpen  Brussel_Wallonie  Limburg  \\\n",
            "location_label_majority                                         \n",
            "Antwerpen                       34                 1        0   \n",
            "Brussel_Wallonie                 0                22        1   \n",
            "Limburg                          0                 0       13   \n",
            "Oost_Vlaanderen                  0                 0        0   \n",
            "Other                            0                 0        0   \n",
            "Vlaams_Brabant                   1                 0        0   \n",
            "West_Vlaanderen                  0                 0        0   \n",
            "\n",
            "predictions              Oost_Vlaanderen  Other  Unknown  Vlaams_Brabant  \\\n",
            "location_label_majority                                                    \n",
            "Antwerpen                              1      0       38               0   \n",
            "Brussel_Wallonie                       0      0       11               0   \n",
            "Limburg                                0      0       10               0   \n",
            "Oost_Vlaanderen                       33      0       26               0   \n",
            "Other                                  0     59       82               0   \n",
            "Vlaams_Brabant                         0      0       12              23   \n",
            "West_Vlaanderen                        1      0       16               0   \n",
            "\n",
            "predictions              West_Vlaanderen  \n",
            "location_label_majority                   \n",
            "Antwerpen                              0  \n",
            "Brussel_Wallonie                       0  \n",
            "Limburg                                0  \n",
            "Oost_Vlaanderen                        2  \n",
            "Other                                  0  \n",
            "Vlaams_Brabant                         0  \n",
            "West_Vlaanderen                       27  \n"
          ]
        }
      ],
      "source": [
        "print(\"Accuracy score majority model : %s\"%accuracy_score(target_location, location_test_df[\"predictions_majority\"]))\n",
        "print(\"Macro F1 score majority model : %s\"%f1_score(target_location, location_test_df[\"predictions_majority\"], average = 'macro'))\n",
        "print(pd.crosstab(target_location,location_test_df[\"predictions_majority\"]))\n",
        "print(\"Accuracy score label model : %s\"%accuracy_score(target_location, location_test_df[\"predictions\"]))\n",
        "print(\"Macro F1 score label model : %s\"%f1_score(target_location, location_test_df[\"predictions\"], average = 'macro'))\n",
        "print(pd.crosstab(target_location, location_test_df[\"predictions\"]))"
      ]
    },
    {
      "cell_type": "markdown",
      "metadata": {
        "id": "XCqarIfZ3lKA"
      },
      "source": [
        "# Output\n",
        "Write predicted labels to csv file"
      ]
    },
    {
      "cell_type": "code",
      "execution_count": null,
      "metadata": {
        "id": "DJLC_EIo4qnv"
      },
      "outputs": [],
      "source": [
        "columns = [\"user_id\", \"age_label\", \"gender_label\", \"location_label\"]\n",
        "train_df.to_csv('Datasets/snorkel_labels.csv', \n",
        "               columns = columns,\n",
        "               index = False)"
      ]
    }
  ],
  "metadata": {
    "colab": {
      "collapsed_sections": [
        "pJiFyWKJ4Hck",
        "XXKUjdkvBLnw",
        "oxNKp-50BAJs",
        "GNS8Oob34ULu",
        "84wlx-r6k357",
        "B2Nw1bxuXPZH",
        "Ipl2VrOCund-",
        "vPr6fFDhvzjq",
        "UlReuihPk36B",
        "kzl6eX8sRoax",
        "wiOKLqliRtLy",
        "SOu4Yooc33eF",
        "7JGscOWl5Bpv",
        "9vW3N8Vq8Sa_",
        "MFvo-ta28ZgG",
        "Z8kyNvLeJ365",
        "QpvuRjrb5p8D",
        "wCWfXCPw5sTE",
        "zyOxKVeh_q79",
        "wBx3W6I-6w5m",
        "e_wP3Ydcbqe7",
        "5zC1hXwIw8Kh",
        "smWqfO4I2doj",
        "ZW07nCgB5zMh"
      ],
      "name": "Copie de 01_Snorkel_data_Labelling.ipynb",
      "provenance": []
    },
    "kernelspec": {
      "display_name": "Python 3",
      "language": "python",
      "name": "python3"
    },
    "language_info": {
      "codemirror_mode": {
        "name": "ipython",
        "version": 3
      },
      "file_extension": ".py",
      "mimetype": "text/x-python",
      "name": "python",
      "nbconvert_exporter": "python",
      "pygments_lexer": "ipython3",
      "version": "3.7.4"
    }
  },
  "nbformat": 4,
  "nbformat_minor": 0
}
